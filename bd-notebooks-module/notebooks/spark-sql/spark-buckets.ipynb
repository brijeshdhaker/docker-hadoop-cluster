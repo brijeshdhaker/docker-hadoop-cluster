{
 "cells": [
  {
   "cell_type": "code",
   "execution_count": null,
   "id": "f7a6e6d6",
   "metadata": {},
   "outputs": [],
   "source": [
    "from pyspark import SparkConf\n",
    "from pyspark.sql import SparkSession\n",
    "\n",
    "conf = SparkConf() \\\n",
    "    .set(\"spark.eventLog.enabled\", \"true\") \\\n",
    "    .set(\"spark.eventLog.dir\", \"file:///apps/var/logs/spark-events\")\n",
    "\n",
    "spark = SparkSession \\\n",
    "    .builder \\\n",
    "    .master(\"local[*]\") \\\n",
    "    .appName(\"PysparkSQL-Columns\") \\\n",
    "    .config(conf=conf) \\\n",
    "    .getOrCreate()\n",
    "\n",
    "#\n",
    "spark.setLogLevel(\"ERROR\")"
   ]
  },
  {
   "cell_type": "code",
   "execution_count": null,
   "id": "08c3ec15",
   "metadata": {},
   "outputs": [],
   "source": [
    "#\n",
    "#\n",
    "# spark.conf.get(\"spark.sql.sources.bucketing.enabled\")\n",
    "# spark.sql.sources.bucketing.maxBuckets\n",
    "# spark.sql.sources.bucketing.autoBucketedScan.enabled\n",
    "# spark.sql.sources.bucketing.autoBucketedScan.enabled\n",
    "# spark.sql.bucketing.coalesceBucketsInJoin.maxBucketRatio\n",
    "# spark.sql.legacy.bucketedTableScan.outputOrdering\n",
    "# spark.sql.shuffle.partitions\n",
    "#"
   ]
  },
  {
   "cell_type": "code",
   "execution_count": null,
   "id": "1d24f03d",
   "metadata": {},
   "outputs": [],
   "source": [
    "data = [(\"James\", 23), (\"Ann\", 40)]\n",
    "df = spark.createDataFrame(data).toDF(\"name.fname\", \"gender\")\n",
    "df.printSchema()\n",
    "\n",
    "# this will create a DataFrame with one column id\n",
    "\n",
    "\n",
    "# Mode : append/overwrite\n",
    "df.write.bucketBy(4, \"id\")\\\n",
    "    .sortBy(\"id\")\\\n",
    "    .mode(\"overwrite\")\\\n",
    "    .saveAsTable(\"bucketed_large\");"
   ]
  },
  {
   "cell_type": "code",
   "execution_count": null,
   "id": "91c7ea1e",
   "metadata": {},
   "outputs": [],
   "source": [
    "# Spark will shuffle both tables because of the UDF\n",
    "(\n",
    "    tableA.withColumn('x', my_udf('some_col'))\n",
    "        .join(tableB, 'user_id')\n",
    ")\n",
    "# One-side shuffle-free join:\n",
    "(\n",
    "    tableA.withColumn('x', my_udf('some_col'))\n",
    "        .repartition(50, 'user_id') # assuming we have 50 buckets\n",
    "        .join(tableB, 'user_id')\n",
    ")\n",
    "# One-side shuffle-free join:\n",
    "# set number of shuffle partitions to number of buckets (or less):\n",
    "spark.conf.set('spark.sql.shuffle.partitions', 50)\n",
    "(\n",
    "    tableA.withColumn('x', my_udf('some_col'))\n",
    "        .join(tableB, 'user_id')\n",
    ")\n"
   ]
  }
 ],
 "metadata": {
  "kernelspec": {
   "display_name": "Python 3 (ipykernel)",
   "language": "python",
   "name": "python3"
  },
  "language_info": {
   "codemirror_mode": {
    "name": "ipython",
    "version": 3
   },
   "file_extension": ".py",
   "mimetype": "text/x-python",
   "name": "python",
   "nbconvert_exporter": "python",
   "pygments_lexer": "ipython3",
   "version": "3.11.13"
  }
 },
 "nbformat": 4,
 "nbformat_minor": 5
}

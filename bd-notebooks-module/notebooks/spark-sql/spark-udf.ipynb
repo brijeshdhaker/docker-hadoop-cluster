{
 "cells": [
  {
   "cell_type": "code",
   "execution_count": 1,
   "id": "e4aee0b1",
   "metadata": {},
   "outputs": [
    {
     "name": "stderr",
     "output_type": "stream",
     "text": [
      "25/10/18 13:42:06 WARN Utils: Your hostname, vmware-ubuntu-24.04 resolves to a loopback address: 127.0.1.1; using 192.168.154.133 instead (on interface ens33)\n",
      "25/10/18 13:42:06 WARN Utils: Set SPARK_LOCAL_IP if you need to bind to another address\n",
      "Setting default log level to \"WARN\".\n",
      "To adjust logging level use sc.setLogLevel(newLevel). For SparkR, use setLogLevel(newLevel).\n",
      "25/10/18 13:42:07 WARN NativeCodeLoader: Unable to load native-hadoop library for your platform... using builtin-java classes where applicable\n"
     ]
    }
   ],
   "source": [
    "from pyspark.sql import SparkSession\n",
    "from pyspark.sql.functions import col, udf\n",
    "from pyspark.sql.types import StringType\n",
    "\n",
    "spark = SparkSession.builder.appName('spark-sql-udf').getOrCreate()"
   ]
  },
  {
   "cell_type": "code",
   "execution_count": 2,
   "id": "d814343d",
   "metadata": {},
   "outputs": [
    {
     "name": "stderr",
     "output_type": "stream",
     "text": [
      "                                                                                \r"
     ]
    },
    {
     "name": "stdout",
     "output_type": "stream",
     "text": [
      "+-----+------------+\n",
      "|Seqno|Name        |\n",
      "+-----+------------+\n",
      "|1    |john jones  |\n",
      "|2    |tracey smith|\n",
      "|3    |amy sanders |\n",
      "+-----+------------+\n",
      "\n"
     ]
    }
   ],
   "source": [
    "#\n",
    "columns = [\"Seqno\", \"Name\"]\n",
    "\n",
    "#\n",
    "data = [(\"1\", \"john jones\"),\n",
    "        (\"2\", \"tracey smith\"),\n",
    "        (\"3\", \"amy sanders\")]\n",
    "\n",
    "df = spark.createDataFrame(data=data, schema=columns)\n",
    "df.show(truncate=False)"
   ]
  },
  {
   "cell_type": "markdown",
   "id": "a3e16855",
   "metadata": {},
   "source": [
    "#### Convert a Python function to PySpark UDF"
   ]
  },
  {
   "cell_type": "code",
   "execution_count": 3,
   "id": "b6bf055b",
   "metadata": {},
   "outputs": [
    {
     "name": "stderr",
     "output_type": "stream",
     "text": [
      "                                                                                \r"
     ]
    },
    {
     "name": "stdout",
     "output_type": "stream",
     "text": [
      "+-----+-------------+\n",
      "|Seqno|Name         |\n",
      "+-----+-------------+\n",
      "|1    |John Jones   |\n",
      "|2    |Tracey Smith |\n",
      "|3    |Amy Sanders  |\n",
      "+-----+-------------+\n",
      "\n"
     ]
    }
   ],
   "source": [
    "#\n",
    "#\n",
    "#\n",
    "def convertCase(str):\n",
    "    resStr = \"\"\n",
    "    arr = str.split(\" \")\n",
    "    for x in arr:\n",
    "        resStr = resStr + x[0:1].upper() + x[1:len(x)] + \" \"\n",
    "    return resStr\n",
    "\n",
    "\n",
    "# Convert Py function to UDF\n",
    "convertUDF = udf(lambda z: convertCase(z))\n",
    "\n",
    "\n",
    "df.select(col(\"Seqno\"), \\\n",
    "          convertUDF(col(\"Name\")).alias(\"Name\")) \\\n",
    "    .show(truncate=False)"
   ]
  },
  {
   "cell_type": "code",
   "execution_count": 4,
   "id": "7433eb20",
   "metadata": {},
   "outputs": [
    {
     "name": "stdout",
     "output_type": "stream",
     "text": [
      "+-----+------------+-------------+\n",
      "|Seqno|Name        |Cureated Name|\n",
      "+-----+------------+-------------+\n",
      "|1    |john jones  |JOHN JONES   |\n",
      "|2    |tracey smith|TRACEY SMITH |\n",
      "|3    |amy sanders |AMY SANDERS  |\n",
      "+-----+------------+-------------+\n",
      "\n",
      "+-----+-------------+\n",
      "|Seqno|Name         |\n",
      "+-----+-------------+\n",
      "|1    |John Jones   |\n",
      "|2    |Tracey Smith |\n",
      "|3    |Amy Sanders  |\n",
      "+-----+-------------+\n",
      "\n",
      "+-----+-----------+\n",
      "|Seqno|Name       |\n",
      "+-----+-----------+\n",
      "|1    |John Jones |\n",
      "+-----+-----------+\n",
      "\n"
     ]
    }
   ],
   "source": [
    "\n",
    "#\n",
    "def upperCase(str):\n",
    "    return str.upper()\n",
    "\n",
    "#\n",
    "upperCaseUDF = udf(lambda z: upperCase(z), StringType())\n",
    "\n",
    "df.withColumn(\"Cureated Name\", upperCaseUDF(col(\"Name\"))).show(truncate=False)\n",
    "\n",
    "\n",
    "#\"\"\" Using UDF on SQL \"\"\"\n",
    "spark.udf.register(\"convertUDF\", convertCase, StringType())\n",
    "\n",
    "df.createOrReplaceTempView(\"NAME_TABLE\")\n",
    "\n",
    "spark.sql(\"select Seqno, convertUDF(Name) as Name from NAME_TABLE\") \\\n",
    "    .show(truncate=False)\n",
    "\n",
    "spark.sql(\"select Seqno, convertUDF(Name) as Name from NAME_TABLE \" + \\\n",
    "          \"where Name is not null and convertUDF(Name) like '%John%'\") \\\n",
    "    .show(truncate=False)"
   ]
  },
  {
   "cell_type": "markdown",
   "id": "58c6db38",
   "metadata": {},
   "source": [
    "#### Handling null check\n",
    "\n",
    "Below points to remember\n",
    "\n",
    "Its always best practice to check for null inside a UDF function rather than checking for null outside.\n",
    "\n",
    "In any case, if you can’t do a null check in UDF at lease use IF or CASE WHEN to check for null and call UDF conditionally."
   ]
  },
  {
   "cell_type": "code",
   "execution_count": 5,
   "id": "fd5664cf",
   "metadata": {},
   "outputs": [
    {
     "name": "stdout",
     "output_type": "stream",
     "text": [
      "+-----+------------+\n",
      "|Seqno|Name        |\n",
      "+-----+------------+\n",
      "|1    |john jones  |\n",
      "|2    |tracey smith|\n",
      "|3    |amy sanders |\n",
      "|4    |NULL        |\n",
      "+-----+------------+\n",
      "\n",
      "+------------------+\n",
      "|_nullsafeUDF(Name)|\n",
      "+------------------+\n",
      "|John Jones        |\n",
      "|Tracey Smith      |\n",
      "|Amy Sanders       |\n",
      "|                  |\n",
      "+------------------+\n",
      "\n",
      "+-----+-----------+\n",
      "|Seqno|Name       |\n",
      "+-----+-----------+\n",
      "|1    |John Jones |\n",
      "+-----+-----------+\n",
      "\n"
     ]
    }
   ],
   "source": [
    "#\n",
    "columns = [\"Seqno\", \"Name\"]\n",
    "\n",
    "#\n",
    "data = [(\"1\", \"john jones\"),\n",
    "        (\"2\", \"tracey smith\"),\n",
    "        (\"3\", \"amy sanders\"),\n",
    "        ('4', None)]\n",
    "\n",
    "df2 = spark.createDataFrame(data=data, schema=columns)\n",
    "df2.show(truncate=False)\n",
    "df2.createOrReplaceTempView(\"NAME_TABLE2\")\n",
    "\n",
    "spark.udf.register(\"_nullsafeUDF\", lambda str: convertCase(str) if not str is None else \"\", StringType())\n",
    "\n",
    "spark.sql(\"select _nullsafeUDF(Name) from NAME_TABLE2\") \\\n",
    "    .show(truncate=False)\n",
    "\n",
    "spark.sql(\"select Seqno, _nullsafeUDF(Name) as Name from NAME_TABLE2 \" + \\\n",
    "          \" where Name is not null and _nullsafeUDF(Name) like '%John%'\") \\\n",
    "    .show(truncate=False)"
   ]
  },
  {
   "cell_type": "code",
   "execution_count": 6,
   "id": "58601767",
   "metadata": {},
   "outputs": [
    {
     "name": "stdout",
     "output_type": "stream",
     "text": [
      "[1, 2, 3, 4, 5, 6, 7, 8, 9]\n"
     ]
    }
   ],
   "source": [
    "arr = [e1 for e1 in range(1,10)]\n",
    "print(arr)"
   ]
  },
  {
   "cell_type": "markdown",
   "id": "1b1b081a",
   "metadata": {},
   "source": [
    "#### Creating UDF using annotation"
   ]
  },
  {
   "cell_type": "code",
   "execution_count": 7,
   "id": "9dc0461a",
   "metadata": {},
   "outputs": [
    {
     "name": "stdout",
     "output_type": "stream",
     "text": [
      "+-----+------------+-------------+\n",
      "|Seqno|Name        |Cureated Name|\n",
      "+-----+------------+-------------+\n",
      "|1    |john jones  |JOHN JONES   |\n",
      "|2    |tracey smith|TRACEY SMITH |\n",
      "|3    |amy sanders |AMY SANDERS  |\n",
      "+-----+------------+-------------+\n",
      "\n"
     ]
    }
   ],
   "source": [
    "@udf(returnType=StringType()) \n",
    "def upperCase(str):\n",
    "    return str.upper()\n",
    "\n",
    "df.withColumn(\"Cureated Name\", upperCase(col(\"Name\"))) \\\n",
    ".show(truncate=False)"
   ]
  },
  {
   "cell_type": "markdown",
   "id": "033126e1",
   "metadata": {},
   "source": [
    "#### UDF on multiple columns"
   ]
  },
  {
   "cell_type": "code",
   "execution_count": 8,
   "id": "ed7d1ac0",
   "metadata": {},
   "outputs": [
    {
     "name": "stdout",
     "output_type": "stream",
     "text": [
      "root\n",
      " |-- firstname: string (nullable = true)\n",
      " |-- middlename: string (nullable = true)\n",
      " |-- lastname: string (nullable = true)\n",
      " |-- dob: string (nullable = true)\n",
      "\n",
      "+---------+----------+--------+----------+\n",
      "|firstname|middlename|lastname|dob       |\n",
      "+---------+----------+--------+----------+\n",
      "|James    |          |Smith   |1991-04-01|\n",
      "|Michael  |Rose      |        |2000-05-19|\n",
      "|Robert   |          |Williams|1978-09-05|\n",
      "|Maria    |Anne      |Jones   |1967-12-01|\n",
      "|Jen      |Mary      |Brown   |1980-02-17|\n",
      "+---------+----------+--------+----------+\n",
      "\n",
      "+---------+----------+--------+----------+----------------+\n",
      "|firstname|middlename|lastname|       dob|       Full_Name|\n",
      "+---------+----------+--------+----------+----------------+\n",
      "|    James|          |   Smith|1991-04-01|    James  Smith|\n",
      "|  Michael|      Rose|        |2000-05-19|   Michael Rose |\n",
      "|   Robert|          |Williams|1978-09-05|Robert  Williams|\n",
      "|    Maria|      Anne|   Jones|1967-12-01|Maria Anne Jones|\n",
      "|      Jen|      Mary|   Brown|1980-02-17|  Jen Mary Brown|\n",
      "+---------+----------+--------+----------+----------------+\n",
      "\n"
     ]
    }
   ],
   "source": [
    "# imports\n",
    "from pyspark.sql.functions import udf\n",
    "from pyspark.sql.types import StringType\n",
    "\n",
    "\n",
    "# Prepare data\n",
    "data = [('James','','Smith','1991-04-01'),\n",
    "  ('Michael','Rose','','2000-05-19'),\n",
    "  ('Robert','','Williams','1978-09-05'),\n",
    "  ('Maria','Anne','Jones','1967-12-01'),\n",
    "  ('Jen','Mary','Brown','1980-02-17')\n",
    "]\n",
    "\n",
    "columns=[\"firstname\",\"middlename\",\"lastname\",\"dob\"]\n",
    "df=spark.createDataFrame(data,columns)\n",
    "df.printSchema()\n",
    "df.show(truncate=False)\n",
    "\n",
    "# udf function\n",
    "def concat(x, y, z):\n",
    "    return x +' '+ y + ' ' + z\n",
    "\n",
    "concat_cols = udf(concat, StringType())\n",
    "\n",
    "# using udf\n",
    "df.withColumn(\"Full_Name\",concat_cols(df.firstname,df.middlename, df.lastname)) \\\n",
    "  .show()"
   ]
  }
 ],
 "metadata": {
  "kernelspec": {
   "display_name": "env_python3_11_13",
   "language": "python",
   "name": "python3"
  },
  "language_info": {
   "codemirror_mode": {
    "name": "ipython",
    "version": 3
   },
   "file_extension": ".py",
   "mimetype": "text/x-python",
   "name": "python",
   "nbconvert_exporter": "python",
   "pygments_lexer": "ipython3",
   "version": "3.11.13"
  }
 },
 "nbformat": 4,
 "nbformat_minor": 5
}

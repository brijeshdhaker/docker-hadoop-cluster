{
 "cells": [
  {
   "cell_type": "markdown",
   "id": "40c71f87",
   "metadata": {},
   "source": [
    "### Spark Session"
   ]
  },
  {
   "cell_type": "code",
   "execution_count": 5,
   "id": "2e329a04",
   "metadata": {
    "scrolled": true,
    "slideshow": {
     "slide_type": ""
    },
    "tags": []
   },
   "outputs": [
    {
     "name": "stderr",
     "output_type": "stream",
     "text": [
      "25/10/11 20:38:13 WARN Utils: Your hostname, vmware-ubuntu-24.04 resolves to a loopback address: 127.0.1.1; using 192.168.154.133 instead (on interface ens33)\n",
      "25/10/11 20:38:13 WARN Utils: Set SPARK_LOCAL_IP if you need to bind to another address\n",
      "Setting default log level to \"WARN\".\n",
      "To adjust logging level use sc.setLogLevel(newLevel). For SparkR, use setLogLevel(newLevel).\n",
      "25/10/11 20:38:14 WARN NativeCodeLoader: Unable to load native-hadoop library for your platform... using builtin-java classes where applicable\n"
     ]
    },
    {
     "data": {
      "text/html": [
       "\n",
       "            <div>\n",
       "                <p><b>SparkSession - in-memory</b></p>\n",
       "                \n",
       "        <div>\n",
       "            <p><b>SparkContext</b></p>\n",
       "\n",
       "            <p><a href=\"http://192.168.154.133:4042\">Spark UI</a></p>\n",
       "\n",
       "            <dl>\n",
       "              <dt>Version</dt>\n",
       "                <dd><code>v3.5.3</code></dd>\n",
       "              <dt>Master</dt>\n",
       "                <dd><code>local[*]</code></dd>\n",
       "              <dt>AppName</dt>\n",
       "                <dd><code>spark-sql-notebook</code></dd>\n",
       "            </dl>\n",
       "        </div>\n",
       "        \n",
       "            </div>\n",
       "        "
      ],
      "text/plain": [
       "<pyspark.sql.session.SparkSession at 0x75d1815c8510>"
      ]
     },
     "execution_count": 5,
     "metadata": {},
     "output_type": "execute_result"
    }
   ],
   "source": [
    "import os\n",
    "from pyspark import SparkConf\n",
    "from pyspark.sql import SparkSession\n",
    "from pyspark.sql.functions import *\n",
    "from pyspark.sql.types import *\n",
    "\n",
    "# Adding AWS S3 Minio configs\n",
    "sparkConf = (\n",
    "    SparkConf()\n",
    "    .set(\"spark.jars.ivy\",\"/home/brijeshdhaker/.ivy2\")\n",
    "    .set(\"spark.ui.port\", \"4042\")\n",
    "    #.set(\"spark.jars.packages\",\"org.apache.hadoop:hadoop-aws:3.0.0,io.delta:delta-spark_2.12:3.3.2\")\n",
    "    #.set(\"spark.sql.extensions\", \"io.delta.sql.DeltaSparkSessionExtension\")\n",
    "    #.set(\"spark.sql.catalog.spark_catalog\", \"org.apache.spark.sql.delta.catalog.DeltaCatalog\")\n",
    "    #.set(\"spark.executor.heartbeatInterval\", \"300000\")\n",
    "    #.set(\"spark.network.timeout\", \"400000\")\n",
    "    # Minio specific settings\n",
    "    #.set(\"spark.hadoop.fs.s3a.endpoint\", \"http://minio.sandbox.net:9010\")\n",
    "    #.set(\"spark.hadoop.fs.s3a.access.key\", \"pgm2H2bR7a5kMc5XCYdO\")\n",
    "    #.set(\"spark.hadoop.fs.s3a.secret.key\", \"zjd8T0hXFGtfemVQ6AH3yBAPASJNXNbVSx5iddqG\")\n",
    "    #.set(\"spark.hadoop.fs.s3a.path.style.access\", \"true\")\n",
    "    #.set(\"spark.hadoop.fs.s3a.aws.credentials.provider\", \"org.apache.hadoop.fs.s3a.SimpleAWSCredentialsProvider\")\n",
    "    #.set(\"spark.hadoop.fs.s3a.impl\", \"org.apache.hadoop.fs.s3a.S3AFileSystem\")\n",
    "    #.set(\"spark.sql.warehouse.dir\", \"s3a://defaultfs/spark/warehouse\")\n",
    "    #.set(\"spark.hadoop.fs.defaultFS\", \"s3a://defaultfs/\")\n",
    "    #.set(\"spark.eventLog.enabled\", \"true\")\n",
    "    #.set(\"spark.eventLog.dir\", \"file:///apps/var/logs/spark-events\")\n",
    ")\n",
    "\n",
    "spark = (\n",
    "    SparkSession.builder.master(\"local[*]\").\n",
    "        appName('spark-sql-notebook').\n",
    "        config(conf=sparkConf).\n",
    "        getOrCreate()\n",
    ")\n",
    "\n",
    "spark.sparkContext.setLogLevel('ERROR')\n",
    "spark"
   ]
  },
  {
   "cell_type": "code",
   "execution_count": 6,
   "id": "58886396",
   "metadata": {},
   "outputs": [],
   "source": [
    "#\n",
    "states = {\"NY\":\"New York\", \"CA\":\"California\", \"FL\":\"Florida\", \"TX\":\"Texas\", \"CH\":\"Chicago\", \"OH\":\"Ohio\", \"NJ\":\"New Jersey\", \"UT\":\"Utah\" }\n",
    "\n",
    "#\n",
    "#\n",
    "#\n",
    "sample_data = [\n",
    "    ((\"James\", \"\", \"Smith\"), \"36636\", \"Sales\", 34, \"2006-01-01\", \"true\", [\"Java\", \"Scala\", \"C++\"], {'hair': 'black', 'eye': 'brown'}, \"M\", 3100.50, \"OH\", \"07-01-2019 12 01 19 406\"),\n",
    "    ((\"Michael\", \"Rose\", \"\"), \"40288\", \"Finance\", 25, \"2006-01-01\", \"true\", [\"Java\", \"Scala\", \"C++\"], {'hair': 'brown', 'eye': 'brown'}, \"M\", 4300.65, \"CA\", \"06-24-2019 12 01 19 406\"),\n",
    "    ((\"Robert\", \"\", \"Williams\"), \"42114\", \"Marketing\", 27, \"1992-06-23\", \"false\", [\"Java\", \"Scala\", \"C++\"], {'hair': 'black', 'eye': 'black'}, \"M\", 1400.80, \"NJ\", \"11-16-2019 16 50 59 406\"),\n",
    "    ((\"Maria\", \"Anne\", \"Jones\"), \"39192\", \"Finance\", 19, \"1987-05-05\", \"false\", [\"Java\", \"Scala\", \"C++\"], {'hair': 'black', 'eye': 'brown'}, \"F\", 5500.75, \"NY\", \"11-16-2019 16 50 59 406\"),\n",
    "    ((\"Jen\", \"Mary\", \"Brown\"), \"39191\", \"Marketing\", 24, \"1990-01-01\", \"false\", [\"Java\", \"Scala\", \"C++\"], {'hair': 'black', 'eye': 'brown'}, \"F\", 0.00, \"UT\", \"11-16-2019 16 50 59 406\"),\n",
    "    ((\"Jeff\", \"A\", \"Jones\"), \"39193\", \"Finance\", 19, \"2000-07-17\", \"false\", [\"Java\", \"Scala\", \"C++\"], {'hair': 'black', 'eye': 'brown'}, \"F\", 5500.75, \"CA\", \"11-16-2019 16 50 59 406\"),\n",
    "    ((\"Robert\", \"\", \"Williams\"), \"42114\", \"Marketing\", 27, \"1992-06-23\", \"false\", [\"Java\", \"Scala\", \"C++\"], {'hair': 'black', 'eye': 'brown'}, \"M\", 1400.80, \"NJ\", \"11-16-2019 16 50 59 406\"),\n",
    "    ((\"James\", \"\", \"Smith\"), \"36636\", \"Sales\", 34, \"2006-01-01\", \"true\", [\"Java\", \"Scala\", \"C++\"], {'hair': 'black', 'eye': 'brown'}, \"M\", 3100.50, \"OH\", \"07-01-2019 12 01 19 406\"),\n",
    "    ((\"Scott\", \"M\", \"Brown\"), \"39194\", \"Marketing\", 24, \"1994-10-01\", \"false\", [\"Python\", \"Scala\", \"C++\"], {'hair': 'black', 'eye': 'brown'}, \"F\", 0.00, None, \"11-16-2019 16 50 59 406\")\n",
    "]\n",
    "\n",
    "#\n",
    "#\n",
    "#\n",
    "sample_schema = StructType([\n",
    "    StructField('name', StructType([\n",
    "        StructField('firstname', StringType(), True),\n",
    "        StructField('middlename', StringType(), True),\n",
    "        StructField('lastname', StringType(), True)\n",
    "    ])),\n",
    "    StructField('id', StringType(), True),\n",
    "    StructField('department', StringType(), True),\n",
    "    StructField('age', IntegerType(), True),\n",
    "    StructField('join_date', StringType(), True),\n",
    "    StructField('isactive', StringType(), True),\n",
    "    StructField('languages', ArrayType(StringType(), True), True),\n",
    "    StructField('properties', MapType(StringType(),StringType()), True),\n",
    "    StructField('gender', StringType(), True),\n",
    "    StructField('salary', FloatType(), True),\n",
    "    StructField('state', StringType(), True),\n",
    "    StructField('timestamp', StringType(), True)\n",
    "])"
   ]
  },
  {
   "cell_type": "code",
   "execution_count": 7,
   "id": "62888f41",
   "metadata": {},
   "outputs": [
    {
     "name": "stdout",
     "output_type": "stream",
     "text": [
      "root\n",
      " |-- name: struct (nullable = true)\n",
      " |    |-- firstname: string (nullable = true)\n",
      " |    |-- middlename: string (nullable = true)\n",
      " |    |-- lastname: string (nullable = true)\n",
      " |-- id: string (nullable = true)\n",
      " |-- department: string (nullable = true)\n",
      " |-- age: integer (nullable = true)\n",
      " |-- join_date: string (nullable = true)\n",
      " |-- isactive: string (nullable = true)\n",
      " |-- languages: array (nullable = true)\n",
      " |    |-- element: string (containsNull = true)\n",
      " |-- properties: map (nullable = true)\n",
      " |    |-- key: string\n",
      " |    |-- value: string (valueContainsNull = true)\n",
      " |-- gender: string (nullable = true)\n",
      " |-- salary: float (nullable = true)\n",
      " |-- state: string (nullable = true)\n",
      " |-- timestamp: string (nullable = true)\n",
      "\n"
     ]
    },
    {
     "name": "stderr",
     "output_type": "stream",
     "text": [
      "                                                                                \r"
     ]
    },
    {
     "name": "stdout",
     "output_type": "stream",
     "text": [
      "+--------------------+-----+----------+---+----------+--------+--------------------+-----------------------------+------+-------+-----+-----------------------+\n",
      "|name                |id   |department|age|join_date |isactive|languages           |properties                   |gender|salary |state|timestamp              |\n",
      "+--------------------+-----+----------+---+----------+--------+--------------------+-----------------------------+------+-------+-----+-----------------------+\n",
      "|{James, , Smith}    |36636|Sales     |34 |2006-01-01|true    |[Java, Scala, C++]  |{eye -> brown, hair -> black}|M     |3100.5 |OH   |07-01-2019 12 01 19 406|\n",
      "|{Michael, Rose, }   |40288|Finance   |25 |2006-01-01|true    |[Java, Scala, C++]  |{eye -> brown, hair -> brown}|M     |4300.65|CA   |06-24-2019 12 01 19 406|\n",
      "|{Robert, , Williams}|42114|Marketing |27 |1992-06-23|false   |[Java, Scala, C++]  |{eye -> black, hair -> black}|M     |1400.8 |NJ   |11-16-2019 16 50 59 406|\n",
      "|{Maria, Anne, Jones}|39192|Finance   |19 |1987-05-05|false   |[Java, Scala, C++]  |{eye -> brown, hair -> black}|F     |5500.75|NY   |11-16-2019 16 50 59 406|\n",
      "|{Jen, Mary, Brown}  |39191|Marketing |24 |1990-01-01|false   |[Java, Scala, C++]  |{eye -> brown, hair -> black}|F     |0.0    |UT   |11-16-2019 16 50 59 406|\n",
      "|{Jeff, A, Jones}    |39193|Finance   |19 |2000-07-17|false   |[Java, Scala, C++]  |{eye -> brown, hair -> black}|F     |5500.75|CA   |11-16-2019 16 50 59 406|\n",
      "|{Robert, , Williams}|42114|Marketing |27 |1992-06-23|false   |[Java, Scala, C++]  |{eye -> brown, hair -> black}|M     |1400.8 |NJ   |11-16-2019 16 50 59 406|\n",
      "|{James, , Smith}    |36636|Sales     |34 |2006-01-01|true    |[Java, Scala, C++]  |{eye -> brown, hair -> black}|M     |3100.5 |OH   |07-01-2019 12 01 19 406|\n",
      "|{Scott, M, Brown}   |39194|Marketing |24 |1994-10-01|false   |[Python, Scala, C++]|{eye -> brown, hair -> black}|F     |0.0    |NULL |11-16-2019 16 50 59 406|\n",
      "+--------------------+-----+----------+---+----------+--------+--------------------+-----------------------------+------+-------+-----+-----------------------+\n",
      "\n"
     ]
    }
   ],
   "source": [
    "#\n",
    "df = spark.createDataFrame(data = sample_data, schema = sample_schema)\n",
    "\n",
    "#\n",
    "df.printSchema()\n",
    "\n",
    "#\n",
    "df.show(truncate=False)"
   ]
  },
  {
   "cell_type": "markdown",
   "id": "3e9fcc7c",
   "metadata": {},
   "source": [
    "#### Date Columns"
   ]
  },
  {
   "cell_type": "code",
   "execution_count": 8,
   "id": "8536e7fd",
   "metadata": {},
   "outputs": [
    {
     "name": "stdout",
     "output_type": "stream",
     "text": [
      "+--------------------+-----+----------+---+----------+--------+--------------------+--------------------+------+-------+-----+--------------------+\n",
      "|                name|   id|department|age| join_date|isactive|           languages|          properties|gender| salary|state|           timestamp|\n",
      "+--------------------+-----+----------+---+----------+--------+--------------------+--------------------+------+-------+-----+--------------------+\n",
      "|    {James, , Smith}|36636|     Sales| 34|2006-01-01|    true|  [Java, Scala, C++]|{eye -> brown, ha...|     M| 3100.5|   OH|07-01-2019 12 01 ...|\n",
      "|   {Michael, Rose, }|40288|   Finance| 25|2006-01-01|    true|  [Java, Scala, C++]|{eye -> brown, ha...|     M|4300.65|   CA|06-24-2019 12 01 ...|\n",
      "|{Robert, , Williams}|42114| Marketing| 27|1992-06-23|   false|  [Java, Scala, C++]|{eye -> black, ha...|     M| 1400.8|   NJ|11-16-2019 16 50 ...|\n",
      "|{Maria, Anne, Jones}|39192|   Finance| 19|1987-05-05|   false|  [Java, Scala, C++]|{eye -> brown, ha...|     F|5500.75|   NY|11-16-2019 16 50 ...|\n",
      "|  {Jen, Mary, Brown}|39191| Marketing| 24|1990-01-01|   false|  [Java, Scala, C++]|{eye -> brown, ha...|     F|    0.0|   UT|11-16-2019 16 50 ...|\n",
      "|    {Jeff, A, Jones}|39193|   Finance| 19|2000-07-17|   false|  [Java, Scala, C++]|{eye -> brown, ha...|     F|5500.75|   CA|11-16-2019 16 50 ...|\n",
      "|{Robert, , Williams}|42114| Marketing| 27|1992-06-23|   false|  [Java, Scala, C++]|{eye -> brown, ha...|     M| 1400.8|   NJ|11-16-2019 16 50 ...|\n",
      "|    {James, , Smith}|36636|     Sales| 34|2006-01-01|    true|  [Java, Scala, C++]|{eye -> brown, ha...|     M| 3100.5|   OH|07-01-2019 12 01 ...|\n",
      "|   {Scott, M, Brown}|39194| Marketing| 24|1994-10-01|   false|[Python, Scala, C++]|{eye -> brown, ha...|     F|    0.0| NULL|11-16-2019 16 50 ...|\n",
      "+--------------------+-----+----------+---+----------+--------+--------------------+--------------------+------+-------+-----+--------------------+\n",
      "\n"
     ]
    }
   ],
   "source": [
    "df.show(n=20, truncate=True, vertical=False)"
   ]
  },
  {
   "cell_type": "code",
   "execution_count": 9,
   "id": "d18920fe",
   "metadata": {},
   "outputs": [
    {
     "name": "stdout",
     "output_type": "stream",
     "text": [
      "+-----------------+-----+----------+---+----------+--------+------------------+--------------------+------+-------+-----+--------------------+\n",
      "|             name|   id|department|age| join_date|isactive|         languages|          properties|gender| salary|state|           timestamp|\n",
      "+-----------------+-----+----------+---+----------+--------+------------------+--------------------+------+-------+-----+--------------------+\n",
      "| {James, , Smith}|36636|     Sales| 34|2006-01-01|    true|[Java, Scala, C++]|{eye -> brown, ha...|     M| 3100.5|   OH|07-01-2019 12 01 ...|\n",
      "|{Michael, Rose, }|40288|   Finance| 25|2006-01-01|    true|[Java, Scala, C++]|{eye -> brown, ha...|     M|4300.65|   CA|06-24-2019 12 01 ...|\n",
      "+-----------------+-----+----------+---+----------+--------+------------------+--------------------+------+-------+-----+--------------------+\n",
      "only showing top 2 rows\n",
      "\n"
     ]
    }
   ],
   "source": [
    "df.show(2)"
   ]
  },
  {
   "cell_type": "code",
   "execution_count": 10,
   "id": "8de977bb",
   "metadata": {},
   "outputs": [
    {
     "name": "stdout",
     "output_type": "stream",
     "text": [
      "+--------------------+-----+----------+---+----------+--------+------------------+-----------------------------+------+-------+-----+-----------------------+\n",
      "|name                |id   |department|age|join_date |isactive|languages         |properties                   |gender|salary |state|timestamp              |\n",
      "+--------------------+-----+----------+---+----------+--------+------------------+-----------------------------+------+-------+-----+-----------------------+\n",
      "|{James, , Smith}    |36636|Sales     |34 |2006-01-01|true    |[Java, Scala, C++]|{eye -> brown, hair -> black}|M     |3100.5 |OH   |07-01-2019 12 01 19 406|\n",
      "|{Michael, Rose, }   |40288|Finance   |25 |2006-01-01|true    |[Java, Scala, C++]|{eye -> brown, hair -> brown}|M     |4300.65|CA   |06-24-2019 12 01 19 406|\n",
      "|{Robert, , Williams}|42114|Marketing |27 |1992-06-23|false   |[Java, Scala, C++]|{eye -> black, hair -> black}|M     |1400.8 |NJ   |11-16-2019 16 50 59 406|\n",
      "|{Maria, Anne, Jones}|39192|Finance   |19 |1987-05-05|false   |[Java, Scala, C++]|{eye -> brown, hair -> black}|F     |5500.75|NY   |11-16-2019 16 50 59 406|\n",
      "+--------------------+-----+----------+---+----------+--------+------------------+-----------------------------+------+-------+-----+-----------------------+\n",
      "only showing top 4 rows\n",
      "\n"
     ]
    }
   ],
   "source": [
    "df.show(4,False)"
   ]
  },
  {
   "cell_type": "code",
   "execution_count": 11,
   "id": "373ea2f5",
   "metadata": {},
   "outputs": [
    {
     "name": "stdout",
     "output_type": "stream",
     "text": [
      "+--------------------+-----+----------+---+----------+--------+--------------------+-----------------------------+------+-------+-----+-----------------------+\n",
      "|name                |id   |department|age|join_date |isactive|languages           |properties                   |gender|salary |state|timestamp              |\n",
      "+--------------------+-----+----------+---+----------+--------+--------------------+-----------------------------+------+-------+-----+-----------------------+\n",
      "|{James, , Smith}    |36636|Sales     |34 |2006-01-01|true    |[Java, Scala, C++]  |{eye -> brown, hair -> black}|M     |3100.5 |OH   |07-01-2019 12 01 19 406|\n",
      "|{Michael, Rose, }   |40288|Finance   |25 |2006-01-01|true    |[Java, Scala, C++]  |{eye -> brown, hair -> brown}|M     |4300.65|CA   |06-24-2019 12 01 19 406|\n",
      "|{Robert, , Williams}|42114|Marketing |27 |1992-06-23|false   |[Java, Scala, C++]  |{eye -> black, hair -> black}|M     |1400.8 |NJ   |11-16-2019 16 50 59 406|\n",
      "|{Maria, Anne, Jones}|39192|Finance   |19 |1987-05-05|false   |[Java, Scala, C++]  |{eye -> brown, hair -> black}|F     |5500.75|NY   |11-16-2019 16 50 59 406|\n",
      "|{Jen, Mary, Brown}  |39191|Marketing |24 |1990-01-01|false   |[Java, Scala, C++]  |{eye -> brown, hair -> black}|F     |0.0    |UT   |11-16-2019 16 50 59 406|\n",
      "|{Jeff, A, Jones}    |39193|Finance   |19 |2000-07-17|false   |[Java, Scala, C++]  |{eye -> brown, hair -> black}|F     |5500.75|CA   |11-16-2019 16 50 59 406|\n",
      "|{Robert, , Williams}|42114|Marketing |27 |1992-06-23|false   |[Java, Scala, C++]  |{eye -> brown, hair -> black}|M     |1400.8 |NJ   |11-16-2019 16 50 59 406|\n",
      "|{James, , Smith}    |36636|Sales     |34 |2006-01-01|true    |[Java, Scala, C++]  |{eye -> brown, hair -> black}|M     |3100.5 |OH   |07-01-2019 12 01 19 406|\n",
      "|{Scott, M, Brown}   |39194|Marketing |24 |1994-10-01|false   |[Python, Scala, C++]|{eye -> brown, hair -> black}|F     |0.0    |NULL |11-16-2019 16 50 59 406|\n",
      "+--------------------+-----+----------+---+----------+--------+--------------------+-----------------------------+------+-------+-----+-----------------------+\n",
      "\n"
     ]
    }
   ],
   "source": [
    "df.show(truncate=False)"
   ]
  },
  {
   "cell_type": "code",
   "execution_count": 12,
   "id": "9ae586e6",
   "metadata": {},
   "outputs": [
    {
     "name": "stdout",
     "output_type": "stream",
     "text": [
      "+----------------+-----+----------+---+----------+--------+------------------+--------------------+------+------+-----+--------------------+\n",
      "|            name|   id|department|age| join_date|isactive|         languages|          properties|gender|salary|state|           timestamp|\n",
      "+----------------+-----+----------+---+----------+--------+------------------+--------------------+------+------+-----+--------------------+\n",
      "|{James, , Smith}|36636|     Sales| 34|2006-01-01|    true|[Java, Scala, C++]|{eye -> brown, ha...|     M|3100.5|   OH|07-01-2019 12 01 ...|\n",
      "+----------------+-----+----------+---+----------+--------+------------------+--------------------+------+------+-----+--------------------+\n",
      "\n"
     ]
    }
   ],
   "source": [
    "df.limit(1).show()"
   ]
  },
  {
   "cell_type": "code",
   "execution_count": 13,
   "id": "e5e7e67b",
   "metadata": {},
   "outputs": [
    {
     "name": "stdout",
     "output_type": "stream",
     "text": [
      "+--------------------+-----+----------+---+----------+--------+--------------------+--------------------+------+-------+-----+--------------------+\n",
      "|                name|   id|department|age| join_date|isactive|           languages|          properties|gender| salary|state|           timestamp|\n",
      "+--------------------+-----+----------+---+----------+--------+--------------------+--------------------+------+-------+-----+--------------------+\n",
      "|    {James, , Smith}|36636|     Sales| 34|2006-01-01|    true|  [Java, Scala, C++]|{eye -> brown, ha...|     M| 3100.5|   OH|07-01-2019 12 01 ...|\n",
      "|   {Michael, Rose, }|40288|   Finance| 25|2006-01-01|    true|  [Java, Scala, C++]|{eye -> brown, ha...|     M|4300.65|   CA|06-24-2019 12 01 ...|\n",
      "|{Robert, , Williams}|42114| Marketing| 27|1992-06-23|   false|  [Java, Scala, C++]|{eye -> black, ha...|     M| 1400.8|   NJ|11-16-2019 16 50 ...|\n",
      "|{Maria, Anne, Jones}|39192|   Finance| 19|1987-05-05|   false|  [Java, Scala, C++]|{eye -> brown, ha...|     F|5500.75|   NY|11-16-2019 16 50 ...|\n",
      "|  {Jen, Mary, Brown}|39191| Marketing| 24|1990-01-01|   false|  [Java, Scala, C++]|{eye -> brown, ha...|     F|    0.0|   UT|11-16-2019 16 50 ...|\n",
      "|    {Jeff, A, Jones}|39193|   Finance| 19|2000-07-17|   false|  [Java, Scala, C++]|{eye -> brown, ha...|     F|5500.75|   CA|11-16-2019 16 50 ...|\n",
      "|{Robert, , Williams}|42114| Marketing| 27|1992-06-23|   false|  [Java, Scala, C++]|{eye -> brown, ha...|     M| 1400.8|   NJ|11-16-2019 16 50 ...|\n",
      "|    {James, , Smith}|36636|     Sales| 34|2006-01-01|    true|  [Java, Scala, C++]|{eye -> brown, ha...|     M| 3100.5|   OH|07-01-2019 12 01 ...|\n",
      "|   {Scott, M, Brown}|39194| Marketing| 24|1994-10-01|   false|[Python, Scala, C++]|{eye -> brown, ha...|     F|    0.0| NULL|11-16-2019 16 50 ...|\n",
      "+--------------------+-----+----------+---+----------+--------+--------------------+--------------------+------+-------+-----+--------------------+\n",
      "\n"
     ]
    }
   ],
   "source": [
    "df.show(df.count())"
   ]
  },
  {
   "cell_type": "code",
   "execution_count": 14,
   "id": "f02da8f4",
   "metadata": {},
   "outputs": [
    {
     "name": "stdout",
     "output_type": "stream",
     "text": [
      "-RECORD 0--------------------------\n",
      " name       | {James, , Smith}     \n",
      " id         | 36636                \n",
      " department | Sales                \n",
      " age        | 34                   \n",
      " join_date  | 2006-01-01           \n",
      " isactive   | true                 \n",
      " languages  | [Java, Scala, C++]   \n",
      " properties | {eye -> brown, ha... \n",
      " gender     | M                    \n",
      " salary     | 3100.5               \n",
      " state      | OH                   \n",
      " timestamp  | 07-01-2019 12 01 ... \n",
      "-RECORD 1--------------------------\n",
      " name       | {Michael, Rose, }    \n",
      " id         | 40288                \n",
      " department | Finance              \n",
      " age        | 25                   \n",
      " join_date  | 2006-01-01           \n",
      " isactive   | true                 \n",
      " languages  | [Java, Scala, C++]   \n",
      " properties | {eye -> brown, ha... \n",
      " gender     | M                    \n",
      " salary     | 4300.65              \n",
      " state      | CA                   \n",
      " timestamp  | 06-24-2019 12 01 ... \n",
      "only showing top 2 rows\n",
      "\n"
     ]
    }
   ],
   "source": [
    "df.show(2,vertical=True)"
   ]
  },
  {
   "cell_type": "code",
   "execution_count": 15,
   "id": "37354a1f",
   "metadata": {},
   "outputs": [
    {
     "name": "stdout",
     "output_type": "stream",
     "text": [
      "-RECORD 0-----------------------------------\n",
      " name       | {James, , Smith}              \n",
      " id         | 36636                         \n",
      " department | Sales                         \n",
      " age        | 34                            \n",
      " join_date  | 2006-01-01                    \n",
      " isactive   | true                          \n",
      " languages  | [Java, Scala, C++]            \n",
      " properties | {eye -> brown, hair -> black} \n",
      " gender     | M                             \n",
      " salary     | 3100.5                        \n",
      " state      | OH                            \n",
      " timestamp  | 07-01-2019 12 01 19 406       \n",
      "-RECORD 1-----------------------------------\n",
      " name       | {Michael, Rose, }             \n",
      " id         | 40288                         \n",
      " department | Finance                       \n",
      " age        | 25                            \n",
      " join_date  | 2006-01-01                    \n",
      " isactive   | true                          \n",
      " languages  | [Java, Scala, C++]            \n",
      " properties | {eye -> brown, hair -> brown} \n",
      " gender     | M                             \n",
      " salary     | 4300.65                       \n",
      " state      | CA                            \n",
      " timestamp  | 06-24-2019 12 01 19 406       \n",
      "only showing top 2 rows\n",
      "\n"
     ]
    }
   ],
   "source": [
    "#\n",
    "#\n",
    "# \n",
    "df.show(2, truncate=False, vertical=True)"
   ]
  },
  {
   "cell_type": "code",
   "execution_count": 16,
   "id": "5b8ebe4d",
   "metadata": {},
   "outputs": [
    {
     "data": {
      "text/plain": [
       "Row(name=Row(firstname='James', middlename='', lastname='Smith'), id='36636', department='Sales', age=34, join_date='2006-01-01', isactive='true', languages=['Java', 'Scala', 'C++'], properties={'eye': 'brown', 'hair': 'black'}, gender='M', salary=3100.5, state='OH', timestamp='07-01-2019 12 01 19 406')"
      ]
     },
     "execution_count": 16,
     "metadata": {},
     "output_type": "execute_result"
    }
   ],
   "source": [
    "#\n",
    "# head() function on a dataframe with 'n' numbered parameter will return that many number of records from the top as list of rows.\n",
    "#\n",
    "\n",
    "df.head()\n"
   ]
  },
  {
   "cell_type": "code",
   "execution_count": 17,
   "id": "4203f0d4",
   "metadata": {},
   "outputs": [
    {
     "data": {
      "text/plain": [
       "[Row(name=Row(firstname='James', middlename='', lastname='Smith'), id='36636', department='Sales', age=34, join_date='2006-01-01', isactive='true', languages=['Java', 'Scala', 'C++'], properties={'eye': 'brown', 'hair': 'black'}, gender='M', salary=3100.5, state='OH', timestamp='07-01-2019 12 01 19 406'),\n",
       " Row(name=Row(firstname='Michael', middlename='Rose', lastname=''), id='40288', department='Finance', age=25, join_date='2006-01-01', isactive='true', languages=['Java', 'Scala', 'C++'], properties={'eye': 'brown', 'hair': 'brown'}, gender='M', salary=4300.64990234375, state='CA', timestamp='06-24-2019 12 01 19 406')]"
      ]
     },
     "execution_count": 17,
     "metadata": {},
     "output_type": "execute_result"
    }
   ],
   "source": [
    "#\n",
    "# head() function on a dataframe with 'n' numbered parameter will return that many number of records from the top as list of rows.\n",
    "#\n",
    "df.head(2)"
   ]
  },
  {
   "cell_type": "code",
   "execution_count": 18,
   "id": "9816aac1",
   "metadata": {},
   "outputs": [
    {
     "data": {
      "text/plain": [
       "[Row(name=Row(firstname='James', middlename='', lastname='Smith'), id='36636', department='Sales', age=34, join_date='2006-01-01', isactive='true', languages=['Java', 'Scala', 'C++'], properties={'eye': 'brown', 'hair': 'black'}, gender='M', salary=3100.5, state='OH', timestamp='07-01-2019 12 01 19 406'),\n",
       " Row(name=Row(firstname='Scott', middlename='M', lastname='Brown'), id='39194', department='Marketing', age=24, join_date='1994-10-01', isactive='false', languages=['Python', 'Scala', 'C++'], properties={'eye': 'brown', 'hair': 'black'}, gender='F', salary=0.0, state=None, timestamp='11-16-2019 16 50 59 406')]"
      ]
     },
     "execution_count": 18,
     "metadata": {},
     "output_type": "execute_result"
    }
   ],
   "source": [
    "#\n",
    "# tail() function on a dataframe with 'n' numbered parameter will return that many number of records from the bottom as list of rows.\n",
    "#\n",
    "df.tail(2)"
   ]
  },
  {
   "cell_type": "code",
   "execution_count": 19,
   "id": "49913074",
   "metadata": {},
   "outputs": [
    {
     "data": {
      "text/plain": [
       "Row(name=Row(firstname='James', middlename='', lastname='Smith'), id='36636', department='Sales', age=34, join_date='2006-01-01', isactive='true', languages=['Java', 'Scala', 'C++'], properties={'eye': 'brown', 'hair': 'black'}, gender='M', salary=3100.5, state='OH', timestamp='07-01-2019 12 01 19 406')"
      ]
     },
     "execution_count": 19,
     "metadata": {},
     "output_type": "execute_result"
    }
   ],
   "source": [
    "#\n",
    "# first() function on a dataframe will return first row from the dataframe\n",
    "#\n",
    "df.first()\n"
   ]
  },
  {
   "cell_type": "code",
   "execution_count": 20,
   "id": "1a898bae",
   "metadata": {},
   "outputs": [
    {
     "data": {
      "text/plain": [
       "[Row(name=Row(firstname='James', middlename='', lastname='Smith'), id='36636', department='Sales', age=34, join_date='2006-01-01', isactive='true', languages=['Java', 'Scala', 'C++'], properties={'eye': 'brown', 'hair': 'black'}, gender='M', salary=3100.5, state='OH', timestamp='07-01-2019 12 01 19 406'),\n",
       " Row(name=Row(firstname='Michael', middlename='Rose', lastname=''), id='40288', department='Finance', age=25, join_date='2006-01-01', isactive='true', languages=['Java', 'Scala', 'C++'], properties={'eye': 'brown', 'hair': 'brown'}, gender='M', salary=4300.64990234375, state='CA', timestamp='06-24-2019 12 01 19 406')]"
      ]
     },
     "execution_count": 20,
     "metadata": {},
     "output_type": "execute_result"
    }
   ],
   "source": [
    "#\n",
    "# Using take() function on a dataframe with 'n' numbered parameter will return that many number of records from the top as list of rows.\n",
    "#\n",
    "df.take(2)"
   ]
  },
  {
   "cell_type": "code",
   "execution_count": 21,
   "id": "d7567a94",
   "metadata": {},
   "outputs": [
    {
     "data": {
      "text/plain": [
       "[Row(name=Row(firstname='James', middlename='', lastname='Smith'), id='36636', department='Sales', age=34, join_date='2006-01-01', isactive='true', languages=['Java', 'Scala', 'C++'], properties={'eye': 'brown', 'hair': 'black'}, gender='M', salary=3100.5, state='OH', timestamp='07-01-2019 12 01 19 406'),\n",
       " Row(name=Row(firstname='Michael', middlename='Rose', lastname=''), id='40288', department='Finance', age=25, join_date='2006-01-01', isactive='true', languages=['Java', 'Scala', 'C++'], properties={'eye': 'brown', 'hair': 'brown'}, gender='M', salary=4300.64990234375, state='CA', timestamp='06-24-2019 12 01 19 406'),\n",
       " Row(name=Row(firstname='Robert', middlename='', lastname='Williams'), id='42114', department='Marketing', age=27, join_date='1992-06-23', isactive='false', languages=['Java', 'Scala', 'C++'], properties={'eye': 'black', 'hair': 'black'}, gender='M', salary=1400.800048828125, state='NJ', timestamp='11-16-2019 16 50 59 406'),\n",
       " Row(name=Row(firstname='Maria', middlename='Anne', lastname='Jones'), id='39192', department='Finance', age=19, join_date='1987-05-05', isactive='false', languages=['Java', 'Scala', 'C++'], properties={'eye': 'brown', 'hair': 'black'}, gender='F', salary=5500.75, state='NY', timestamp='11-16-2019 16 50 59 406'),\n",
       " Row(name=Row(firstname='Jen', middlename='Mary', lastname='Brown'), id='39191', department='Marketing', age=24, join_date='1990-01-01', isactive='false', languages=['Java', 'Scala', 'C++'], properties={'eye': 'brown', 'hair': 'black'}, gender='F', salary=0.0, state='UT', timestamp='11-16-2019 16 50 59 406'),\n",
       " Row(name=Row(firstname='Jeff', middlename='A', lastname='Jones'), id='39193', department='Finance', age=19, join_date='2000-07-17', isactive='false', languages=['Java', 'Scala', 'C++'], properties={'eye': 'brown', 'hair': 'black'}, gender='F', salary=5500.75, state='CA', timestamp='11-16-2019 16 50 59 406'),\n",
       " Row(name=Row(firstname='Robert', middlename='', lastname='Williams'), id='42114', department='Marketing', age=27, join_date='1992-06-23', isactive='false', languages=['Java', 'Scala', 'C++'], properties={'eye': 'brown', 'hair': 'black'}, gender='M', salary=1400.800048828125, state='NJ', timestamp='11-16-2019 16 50 59 406'),\n",
       " Row(name=Row(firstname='James', middlename='', lastname='Smith'), id='36636', department='Sales', age=34, join_date='2006-01-01', isactive='true', languages=['Java', 'Scala', 'C++'], properties={'eye': 'brown', 'hair': 'black'}, gender='M', salary=3100.5, state='OH', timestamp='07-01-2019 12 01 19 406'),\n",
       " Row(name=Row(firstname='Scott', middlename='M', lastname='Brown'), id='39194', department='Marketing', age=24, join_date='1994-10-01', isactive='false', languages=['Python', 'Scala', 'C++'], properties={'eye': 'brown', 'hair': 'black'}, gender='F', salary=0.0, state=None, timestamp='11-16-2019 16 50 59 406')]"
      ]
     },
     "execution_count": 21,
     "metadata": {},
     "output_type": "execute_result"
    }
   ],
   "source": [
    "# Using collect() function on a dataframe will return all the rows from the dataframe as list of rows\n",
    "df.collect()"
   ]
  },
  {
   "cell_type": "markdown",
   "id": "a875f4f3",
   "metadata": {},
   "source": []
  },
  {
   "cell_type": "code",
   "execution_count": 22,
   "id": "208a357f",
   "metadata": {},
   "outputs": [
    {
     "data": {
      "text/plain": [
       "[Row(name=Row(firstname='James', middlename='', lastname='Smith'), id='36636', department='Sales', age=34, join_date='2006-01-01', isactive='true', languages=['Java', 'Scala', 'C++'], properties={'eye': 'brown', 'hair': 'black'}, gender='M', salary=3100.5, state='OH', timestamp='07-01-2019 12 01 19 406')]"
      ]
     },
     "execution_count": 22,
     "metadata": {},
     "output_type": "execute_result"
    }
   ],
   "source": [
    "# limit() function can be used to limit records before using collect() function on a dataframe. Records are limited to 1 in the below example.\n",
    "df.limit(1).collect()\n"
   ]
  }
 ],
 "metadata": {
  "kernelspec": {
   "display_name": "Python 3 (ipykernel)",
   "language": "python",
   "name": "python3"
  },
  "language_info": {
   "codemirror_mode": {
    "name": "ipython",
    "version": 3
   },
   "file_extension": ".py",
   "mimetype": "text/x-python",
   "name": "python",
   "nbconvert_exporter": "python",
   "pygments_lexer": "ipython3",
   "version": "3.11.13"
  }
 },
 "nbformat": 4,
 "nbformat_minor": 5
}

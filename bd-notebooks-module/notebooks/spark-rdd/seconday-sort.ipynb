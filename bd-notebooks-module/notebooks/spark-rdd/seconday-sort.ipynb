{
 "cells": [
  {
   "cell_type": "code",
   "execution_count": null,
   "id": "2fe859d2",
   "metadata": {},
   "outputs": [],
   "source": [
    "# ('trip_id',\t'taxi_id',\t'trip_start_timestamp',\t'trip_end_timestamp')\n",
    "taxi_data = [\n",
    "    ('85','taxi_001','07/19/2016 02:45:00 PM','07/19/2016 02:48:00 PM'),\n",
    "    ('22','taxi_002','01/22/2015 04:15:00 PM','01/22/2015 04:30:00 PM'),\n",
    "    ('86','taxi_001','07/19/2016 03:00:00 PM','07/19/2016 03:15:00 PM'),\n",
    "    ('23','taxi_002','01/22/2015 04:45:00 PM','01/22/2015 05:30:00 PM'),\n",
    "    ('87','taxi_001','07/19/2016 03:25:00 PM','07/19/2016 03:45:00 PM'),\n",
    "    ('24','taxi_002','01/22/2015 05:45:00 PM','01/22/2015 06:30:00 PM'),\n",
    "    ('88','taxi_001','07/19/2016 03:55:00 PM','07/19/2016 04:05:00 PM'),\n",
    "    ('25','taxi_002','01/22/2015 06:45:00 PM','01/22/2015 07:10:00 PM'),\n",
    "    ('89','taxi_001','07/19/2016 04:25:00 PM','07/19/2016 04:45:00 PM'),\n",
    "    ('26','taxi_002','01/22/2015 07:15:00 PM','01/22/2015 08:30:00 PM'),\n",
    "    ('90','taxi_001','07/19/2016 04:50:00 PM','07/19/2016 05:05:00 PM'),\n",
    "    ('27','taxi_002','01/22/2015 08:35:00 PM','01/22/2015 08:50:00 PM'),\n",
    "    ('91','taxi_001','07/19/2016 05:15:00 PM','07/19/2016 06:45:00 PM'),\n",
    "    ('28','taxi_002','01/22/2015 09:15:00 PM','01/22/2015 10:30:00 PM')\n",
    "]"
   ]
  },
  {
   "cell_type": "code",
   "execution_count": 2,
   "id": "b35fea3d",
   "metadata": {},
   "outputs": [
    {
     "name": "stderr",
     "output_type": "stream",
     "text": [
      "25/10/08 09:55:52 WARN Utils: Your hostname, vmware-ubuntu-24.04 resolves to a loopback address: 127.0.1.1; using 192.168.154.133 instead (on interface ens33)\n",
      "25/10/08 09:55:52 WARN Utils: Set SPARK_LOCAL_IP if you need to bind to another address\n",
      "Setting default log level to \"WARN\".\n",
      "To adjust logging level use sc.setLogLevel(newLevel). For SparkR, use setLogLevel(newLevel).\n",
      "25/10/08 09:55:53 WARN NativeCodeLoader: Unable to load native-hadoop library for your platform... using builtin-java classes where applicable\n"
     ]
    }
   ],
   "source": [
    "import os\n",
    "import re\n",
    "import time\n",
    "import uuid\n",
    "from pyspark import SparkContext, SparkConf\n",
    "\n",
    "\n",
    "conf = SparkConf()\n",
    "ctx = SparkContext(master='local[*]', appName=\"APP_NAME\", conf=conf)\n",
    "ctx.setLogLevel('ERROR')\n",
    "\n",
    "\n"
   ]
  },
  {
   "cell_type": "code",
   "execution_count": 3,
   "id": "fe4d7a80",
   "metadata": {},
   "outputs": [
    {
     "name": "stdout",
     "output_type": "stream",
     "text": [
      "[('b258df504d2fbf85', 'b7b0be6d3ec6c589aeac84c0', '07/19/2016 02:45:00 PM', '07/19/2016 02:48:00 PM'), ('b258df6e5ace922', '0d61c4f9c8cb8d280fce3887', '01/22/2015 04:15:00 PM', '01/22/2015 04:30:00 PM'), ('b258df504d2fbf86', 'b7b0be6d3ec6c589aeac84c0', '07/19/2016 03:00:00 PM', '07/19/2016 03:15:00 PM'), ('b258df6e5ace922', '0d61c4f9c8cb8d280fce3887', '01/22/2015 04:45:00 PM', '01/22/2015 05:30:00 PM'), ('b258df504d2fbf87', 'b7b0be6d3ec6c589aeac84c0', '07/19/2016 03:25:00 PM', '07/19/2016 03:45:00 PM'), ('b258df6e5ace922', '0d61c4f9c8cb8d280fce3887', '01/22/2015 05:45:00 PM', '01/22/2015 06:30:00 PM'), ('b258df504d2fbf88', 'b7b0be6d3ec6c589aeac84c0', '07/19/2016 03:55:00 PM', '07/19/2016 04:05:00 PM'), ('b258df6e5ace922', '0d61c4f9c8cb8d280fce3887', '01/22/2015 06:45:00 PM', '01/22/2015 07:10:00 PM'), ('b258df504d2fbf89', 'b7b0be6d3ec6c589aeac84c0', '07/19/2016 04:25:00 PM', '07/19/2016 04:45:00 PM'), ('b258df6e5ace922', '0d61c4f9c8cb8d280fce3887', '01/22/2015 07:15:00 PM', '01/22/2015 08:30:00 PM'), ('b258df504d2fbf90', 'b7b0be6d3ec6c589aeac84c0', '07/19/2016 04:50:00 PM', '07/19/2016 05:05:00 PM'), ('b258df6e5ace922', '0d61c4f9c8cb8d280fce3887', '01/22/2015 08:35:00 PM', '01/22/2015 08:50:00 PM'), ('b258df504d2fbf91', 'b7b0be6d3ec6c589aeac84c0', '07/19/2016 05:15:00 PM', '07/19/2016 06:45:00 PM'), ('b258df6e5ace922', '0d61c4f9c8cb8d280fce3887', '01/22/2015 09:15:00 PM', '01/22/2015 10:30:00 PM')]\n"
     ]
    }
   ],
   "source": [
    "rawRDD = ctx.parallelize(taxi_data)\n",
    "print(rawRDD.collect())"
   ]
  },
  {
   "cell_type": "code",
   "execution_count": 4,
   "id": "6f42dad3",
   "metadata": {},
   "outputs": [
    {
     "name": "stderr",
     "output_type": "stream",
     "text": [
      "[Stage 1:>                                                          (0 + 8) / 8]\r"
     ]
    },
    {
     "name": "stdout",
     "output_type": "stream",
     "text": [
      "[('b7b0be6d3ec6c589aeac84c0', ('b258df504d2fbf85', 'b7b0be6d3ec6c589aeac84c0', '07/19/2016 02:45:00 PM', '07/19/2016 02:48:00 PM')), ('0d61c4f9c8cb8d280fce3887', ('b258df6e5ace922', '0d61c4f9c8cb8d280fce3887', '01/22/2015 04:15:00 PM', '01/22/2015 04:30:00 PM')), ('b7b0be6d3ec6c589aeac84c0', ('b258df504d2fbf86', 'b7b0be6d3ec6c589aeac84c0', '07/19/2016 03:00:00 PM', '07/19/2016 03:15:00 PM')), ('0d61c4f9c8cb8d280fce3887', ('b258df6e5ace922', '0d61c4f9c8cb8d280fce3887', '01/22/2015 04:45:00 PM', '01/22/2015 05:30:00 PM')), ('b7b0be6d3ec6c589aeac84c0', ('b258df504d2fbf87', 'b7b0be6d3ec6c589aeac84c0', '07/19/2016 03:25:00 PM', '07/19/2016 03:45:00 PM')), ('0d61c4f9c8cb8d280fce3887', ('b258df6e5ace922', '0d61c4f9c8cb8d280fce3887', '01/22/2015 05:45:00 PM', '01/22/2015 06:30:00 PM')), ('b7b0be6d3ec6c589aeac84c0', ('b258df504d2fbf88', 'b7b0be6d3ec6c589aeac84c0', '07/19/2016 03:55:00 PM', '07/19/2016 04:05:00 PM')), ('0d61c4f9c8cb8d280fce3887', ('b258df6e5ace922', '0d61c4f9c8cb8d280fce3887', '01/22/2015 06:45:00 PM', '01/22/2015 07:10:00 PM')), ('b7b0be6d3ec6c589aeac84c0', ('b258df504d2fbf89', 'b7b0be6d3ec6c589aeac84c0', '07/19/2016 04:25:00 PM', '07/19/2016 04:45:00 PM')), ('0d61c4f9c8cb8d280fce3887', ('b258df6e5ace922', '0d61c4f9c8cb8d280fce3887', '01/22/2015 07:15:00 PM', '01/22/2015 08:30:00 PM')), ('b7b0be6d3ec6c589aeac84c0', ('b258df504d2fbf90', 'b7b0be6d3ec6c589aeac84c0', '07/19/2016 04:50:00 PM', '07/19/2016 05:05:00 PM')), ('0d61c4f9c8cb8d280fce3887', ('b258df6e5ace922', '0d61c4f9c8cb8d280fce3887', '01/22/2015 08:35:00 PM', '01/22/2015 08:50:00 PM')), ('b7b0be6d3ec6c589aeac84c0', ('b258df504d2fbf91', 'b7b0be6d3ec6c589aeac84c0', '07/19/2016 05:15:00 PM', '07/19/2016 06:45:00 PM')), ('0d61c4f9c8cb8d280fce3887', ('b258df6e5ace922', '0d61c4f9c8cb8d280fce3887', '01/22/2015 09:15:00 PM', '01/22/2015 10:30:00 PM'))]\n"
     ]
    },
    {
     "name": "stderr",
     "output_type": "stream",
     "text": [
      "                                                                                \r"
     ]
    }
   ],
   "source": [
    "# (taxi_id -> ('trip_id',\t'taxi_id',\t'trip_start_timestamp',\t'trip_end_timestamp'))\n",
    "def make_pair(entry):\n",
    "    key = entry[1]\n",
    "    return key, entry\n",
    "\n",
    "pairRDD = rawRDD.map(make_pair)\n",
    "print(pairRDD.collect())"
   ]
  },
  {
   "cell_type": "code",
   "execution_count": null,
   "id": "8766a567",
   "metadata": {},
   "outputs": [
    {
     "name": "stdout",
     "output_type": "stream",
     "text": [
      "[('b7b0be6d3ec6c589aeac84c0', ('07/19/2016 02:45:00 PM', '07/19/2016 02:48:00 PM')), ('0d61c4f9c8cb8d280fce3887', ('01/22/2015 04:15:00 PM', '01/22/2015 04:30:00 PM')), ('b7b0be6d3ec6c589aeac84c0', ('07/19/2016 03:00:00 PM', '07/19/2016 03:15:00 PM')), ('0d61c4f9c8cb8d280fce3887', ('01/22/2015 04:45:00 PM', '01/22/2015 05:30:00 PM')), ('b7b0be6d3ec6c589aeac84c0', ('07/19/2016 03:25:00 PM', '07/19/2016 03:45:00 PM')), ('0d61c4f9c8cb8d280fce3887', ('01/22/2015 05:45:00 PM', '01/22/2015 06:30:00 PM')), ('b7b0be6d3ec6c589aeac84c0', ('07/19/2016 03:55:00 PM', '07/19/2016 04:05:00 PM')), ('0d61c4f9c8cb8d280fce3887', ('01/22/2015 06:45:00 PM', '01/22/2015 07:10:00 PM')), ('b7b0be6d3ec6c589aeac84c0', ('07/19/2016 04:25:00 PM', '07/19/2016 04:45:00 PM')), ('0d61c4f9c8cb8d280fce3887', ('01/22/2015 07:15:00 PM', '01/22/2015 08:30:00 PM')), ('b7b0be6d3ec6c589aeac84c0', ('07/19/2016 04:50:00 PM', '07/19/2016 05:05:00 PM')), ('0d61c4f9c8cb8d280fce3887', ('01/22/2015 08:35:00 PM', '01/22/2015 08:50:00 PM')), ('b7b0be6d3ec6c589aeac84c0', ('07/19/2016 05:15:00 PM', '07/19/2016 06:45:00 PM')), ('0d61c4f9c8cb8d280fce3887', ('01/22/2015 09:15:00 PM', '01/22/2015 10:30:00 PM'))]\n"
     ]
    }
   ],
   "source": [
    "# (taxi_id -> ('trip_start_timestamp',\t'trip_end_timestamp'))\n",
    "compressedRDD = pairRDD.mapValues(lambda x: (x[2], x[3]))\n",
    "print(compressedRDD.collect())"
   ]
  },
  {
   "cell_type": "code",
   "execution_count": null,
   "id": "f35e29a5",
   "metadata": {},
   "outputs": [
    {
     "name": "stdout",
     "output_type": "stream",
     "text": [
      "[('b7b0be6d3ec6c589aeac84c0', <pyspark.resultiterable.ResultIterable object at 0x7aec6e390a50>), ('0d61c4f9c8cb8d280fce3887', <pyspark.resultiterable.ResultIterable object at 0x7aec6e390890>)]\n"
     ]
    }
   ],
   "source": [
    "# (taxi_id -> [('trip_start_timestamp',\t'trip_end_timestamp'), ('trip_start_timestamp',\t'trip_end_timestamp'), ...])\n",
    "groupedRDD = compressedRDD.groupByKey(numPartitions=2)\n",
    "print(groupedRDD.collect())"
   ]
  },
  {
   "cell_type": "code",
   "execution_count": null,
   "id": "56fd0d50",
   "metadata": {},
   "outputs": [
    {
     "name": "stdout",
     "output_type": "stream",
     "text": [
      "[('b7b0be6d3ec6c589aeac84c0', [('07/19/2016 02:45:00 PM', '07/19/2016 02:48:00 PM'), ('07/19/2016 03:00:00 PM', '07/19/2016 03:15:00 PM'), ('07/19/2016 03:25:00 PM', '07/19/2016 03:45:00 PM'), ('07/19/2016 03:55:00 PM', '07/19/2016 04:05:00 PM'), ('07/19/2016 04:25:00 PM', '07/19/2016 04:45:00 PM'), ('07/19/2016 04:50:00 PM', '07/19/2016 05:05:00 PM'), ('07/19/2016 05:15:00 PM', '07/19/2016 06:45:00 PM')]), ('0d61c4f9c8cb8d280fce3887', [('01/22/2015 04:15:00 PM', '01/22/2015 04:30:00 PM'), ('01/22/2015 04:45:00 PM', '01/22/2015 05:30:00 PM'), ('01/22/2015 05:45:00 PM', '01/22/2015 06:30:00 PM'), ('01/22/2015 06:45:00 PM', '01/22/2015 07:10:00 PM'), ('01/22/2015 07:15:00 PM', '01/22/2015 08:30:00 PM'), ('01/22/2015 08:35:00 PM', '01/22/2015 08:50:00 PM'), ('01/22/2015 09:15:00 PM', '01/22/2015 10:30:00 PM')])]\n"
     ]
    }
   ],
   "source": [
    "#\n",
    "# Sort the group based on trip_start_timestamp\n",
    "#\n",
    "def sort_group(group):\n",
    "    return sorted(group, key=lambda entry: entry[0], reverse=False)\n",
    "\n",
    "sortedRDD = groupedRDD.mapValues(sort_group)\n",
    "print(sortedRDD.collect())"
   ]
  },
  {
   "cell_type": "code",
   "execution_count": 15,
   "id": "3706758e",
   "metadata": {},
   "outputs": [
    {
     "name": "stdout",
     "output_type": "stream",
     "text": [
      "[('b7b0be6d3ec6c589aeac84c0', 4020.0), ('0d61c4f9c8cb8d280fce3887', 4800.0)]\n"
     ]
    }
   ],
   "source": [
    "from datetime import datetime\n",
    "\n",
    "def calculate_loss(entry):\n",
    "    group = entry\n",
    "    loss = 0\n",
    "    _, prev_end = group[0]\n",
    "\n",
    "    for item in group:\n",
    "        start, end = item\n",
    "        delta = datetime.strptime(start, '%m/%d/%Y %I:%M:%S %p').timestamp()\\\n",
    "                - datetime.strptime(prev_end, '%m/%d/%Y %I:%M:%S %p').timestamp()\n",
    "        if delta > 0:\n",
    "            loss += delta\n",
    "        prev_end = end\n",
    "        \n",
    "    return loss\n",
    "\n",
    "\n",
    "lossRDD = sortedRDD.mapValues(calculate_loss)\n",
    "\n",
    "print(lossRDD.collect())"
   ]
  },
  {
   "cell_type": "code",
   "execution_count": 8,
   "id": "19316f1e",
   "metadata": {},
   "outputs": [
    {
     "name": "stdout",
     "output_type": "stream",
     "text": [
      "[('b7b0be6d3ec6c589aeac84c0', [720.0, 600.0, 600.0, 1200.0, 300.0, 600.0]), ('0d61c4f9c8cb8d280fce3887', [900.0, 900.0, 900.0, 300.0, 300.0, 1500.0])]\n"
     ]
    }
   ],
   "source": [
    "from datetime import datetime\n",
    "\n",
    "def calculate_delta(entry):\n",
    "    group = entry[0]\n",
    "    loss = 0\n",
    "    _, prev_end = entry[1][1]\n",
    "    deltaArray = []\n",
    "    for item in entry[1]:\n",
    "        start, end = item\n",
    "        delta = datetime.strptime(start, '%m/%d/%Y %I:%M:%S %p').timestamp()\\\n",
    "                - datetime.strptime(prev_end, '%m/%d/%Y %I:%M:%S %p').timestamp()\n",
    "        if delta > 0:\n",
    "            loss += delta\n",
    "            deltaArray.append(delta)\n",
    "        \n",
    "        prev_end = end\n",
    "\n",
    "    return (group, deltaArray)\n",
    "\n",
    "\n",
    "deltaRDD = sortedRDD.map(calculate_delta)\n",
    "\n",
    "print(deltaRDD.collect())"
   ]
  },
  {
   "cell_type": "code",
   "execution_count": 9,
   "id": "a917c131",
   "metadata": {},
   "outputs": [
    {
     "name": "stdout",
     "output_type": "stream",
     "text": [
      "[('b7b0be6d3ec6c589aeac84c0', 4020.0), ('0d61c4f9c8cb8d280fce3887', 4800.0)]\n"
     ]
    }
   ],
   "source": [
    "from datetime import datetime\n",
    "\n",
    "def compute_loss(entry):\n",
    "    loss = 0\n",
    "    for item in entry:\n",
    "        if item > 0:\n",
    "            loss += item\n",
    "        \n",
    "    return loss\n",
    "\n",
    "\n",
    "lossRDD = deltaRDD.mapValues(compute_loss)\n",
    "\n",
    "print(lossRDD.collect())"
   ]
  }
 ],
 "metadata": {
  "kernelspec": {
   "display_name": "env_python3_11_13",
   "language": "python",
   "name": "python3"
  },
  "language_info": {
   "codemirror_mode": {
    "name": "ipython",
    "version": 3
   },
   "file_extension": ".py",
   "mimetype": "text/x-python",
   "name": "python",
   "nbconvert_exporter": "python",
   "pygments_lexer": "ipython3",
   "version": "3.11.13"
  }
 },
 "nbformat": 4,
 "nbformat_minor": 5
}

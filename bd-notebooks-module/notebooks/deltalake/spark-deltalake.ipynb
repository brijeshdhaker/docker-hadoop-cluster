{
 "cells": [
  {
   "cell_type": "code",
   "execution_count": null,
   "id": "af3d0c07",
   "metadata": {},
   "outputs": [],
   "source": [
    "import os\n",
    "from pyspark import SparkConf\n",
    "from pyspark.sql import SparkSession\n",
    "from pyspark.sql.functions import *\n",
    "from pyspark.sql.types import *\n",
    "\n",
    "# Adding AWS S3 Minio configs\n",
    "sparkConf = (\n",
    "    SparkConf()\n",
    "    .set(\"spark.jars.ivy\",\"/home/brijeshdhaker/.ivy2\")\n",
    "    .set(\"spark.sql.extensions\", \"io.delta.sql.DeltaSparkSessionExtension\")\n",
    "    .set(\"spark.sql.catalog.spark_catalog\", \"org.apache.spark.sql.delta.catalog.DeltaCatalog\")\n",
    "    .set(\"spark.jars.packages\",\"org.apache.hadoop:hadoop-aws:3.0.0,io.delta:delta-spark_2.12:3.3.2\")\n",
    "    .set(\"spark.executor.heartbeatInterval\", \"300000\")\n",
    "    .set(\"spark.network.timeout\", \"400000\")\n",
    "    .set(\"spark.hadoop.fs.defaultFS\", \"s3a://defaultfs/\")\n",
    "    .set(\"spark.hadoop.fs.s3a.endpoint\", \"http://minio.sandbox.net:9010\")\n",
    "    .set(\"spark.hadoop.fs.s3a.access.key\", \"pgm2H2bR7a5kMc5XCYdO\")\n",
    "    .set(\"spark.hadoop.fs.s3a.secret.key\", \"zjd8T0hXFGtfemVQ6AH3yBAPASJNXNbVSx5iddqG\")\n",
    "    .set(\"spark.hadoop.fs.s3a.path.style.access\", \"true\")\n",
    "    .set(\"spark.hadoop.fs.s3a.aws.credentials.provider\", \"org.apache.hadoop.fs.s3a.SimpleAWSCredentialsProvider\")\n",
    "    .set(\"spark.hadoop.fs.s3a.impl\", \"org.apache.hadoop.fs.s3a.S3AFileSystem\")\n",
    "    #.set(\"spark.eventLog.enabled\", \"true\")\n",
    "    #.set(\"spark.eventLog.dir\", \"file:///apps/var/logs/spark-events\")\n",
    ")\n",
    "\n",
    "spark = (\n",
    "    SparkSession.builder.master(\"local[*]\").\n",
    "        appName('spark-deltalake').\n",
    "        config(conf=sparkConf).\n",
    "        getOrCreate()\n",
    ")\n",
    "\n",
    "spark.sparkContext.setLogLevel('ERROR')\n",
    "spark"
   ]
  },
  {
   "cell_type": "markdown",
   "id": "786b4009",
   "metadata": {},
   "source": [
    "#### Create a DataFrame"
   ]
  },
  {
   "cell_type": "code",
   "execution_count": null,
   "id": "43437ebc",
   "metadata": {},
   "outputs": [],
   "source": [
    "from delta import *\n",
    "from pyspark.sql import SparkSession\n",
    "from pyspark.sql.functions import lit\n",
    "\n",
    "# Create a DataFrame\n",
    "df = spark.range(1, 10)\n",
    "df = df.withColumn('value', lit('ABC'))\n",
    "df.show()\n",
    "\n",
    "# Save as delta table\n",
    "df.write.format('delta').save('/deltalake/delta-table')"
   ]
  },
  {
   "cell_type": "markdown",
   "id": "0e28a7fe",
   "metadata": {},
   "source": [
    "#### Update rows with even id to append the id"
   ]
  },
  {
   "cell_type": "code",
   "execution_count": null,
   "id": "92c60ce5",
   "metadata": {},
   "outputs": [],
   "source": [
    "from delta import *\n",
    "from pyspark.sql import SparkSession\n",
    "from pyspark.sql.functions import lit\n",
    "\n",
    "# Update Delta Lake table\n",
    "test_table = DeltaTable.forPath(spark, \"/deltalake/delta-table\")\n",
    "\n",
    "# Update rows with even id to append the id\n",
    "test_table.update(\n",
    "    condition=expr(\"id % 2 == 0\"),\n",
    "    set={\"value\": concat(\"value\", lit('|'), \"id\")})\n",
    "\n",
    "df = test_table.toDF()\n",
    "df.show()"
   ]
  },
  {
   "cell_type": "markdown",
   "id": "dfd1dee9",
   "metadata": {},
   "source": [
    "#### Create a staging DataFrame for merge."
   ]
  },
  {
   "cell_type": "code",
   "execution_count": null,
   "id": "74c1ceb5",
   "metadata": {},
   "outputs": [],
   "source": [
    "# Update Delta Lake table\n",
    "test_table = DeltaTable.forPath(spark, \"/deltalake/delta-table\")\n",
    "\n",
    "# Create a staging DataFrame for merge.\n",
    "df_stg = spark.range(9, 15)\n",
    "df_stg = df_stg.withColumn('value', lit('EDF'))\n",
    "\n",
    "# Merge into test_table\n",
    "merge = test_table.alias('tgt').merge(df_stg.alias('src'),\"src.id = tgt.id\") \\\n",
    "    .whenMatchedUpdate(set={\"value\": col(\"src.value\")}) \\\n",
    "    .whenNotMatchedInsert(values={\"id\": col(\"src.id\"), \"value\": col(\"src.value\")})\n",
    "merge.execute()\n",
    "\n",
    "df = test_table.toDF()\n",
    "df.show()"
   ]
  },
  {
   "cell_type": "markdown",
   "id": "977bdf31",
   "metadata": {},
   "source": [
    "#### delete rows where id = 6"
   ]
  },
  {
   "cell_type": "code",
   "execution_count": null,
   "id": "158912ab",
   "metadata": {},
   "outputs": [],
   "source": [
    "# Update Delta Lake table\n",
    "test_table = DeltaTable.forPath(spark, \"/deltalake/delta-table\")\n",
    "\n",
    "# delete rows where id = 6\n",
    "test_table.delete(\n",
    "    condition=expr(\"id == 6\"))\n",
    "\n",
    "df = test_table.toDF()\n",
    "df.show()"
   ]
  },
  {
   "cell_type": "markdown",
   "id": "b4e30a44",
   "metadata": {},
   "source": [
    "#### overwrite"
   ]
  },
  {
   "cell_type": "code",
   "execution_count": null,
   "id": "fc35dd6a",
   "metadata": {},
   "outputs": [],
   "source": [
    "# Save as delta table\n",
    "df.write.format('delta').mode('overwrite').save('/deltalake/delta-table')"
   ]
  },
  {
   "cell_type": "markdown",
   "id": "2a334a43",
   "metadata": {},
   "source": [
    "#### Time Travle"
   ]
  },
  {
   "cell_type": "code",
   "execution_count": null,
   "id": "8254d22e",
   "metadata": {},
   "outputs": [],
   "source": [
    "# Read version 1\n",
    "df_v1 = spark.read.format('delta').option('versionAsOf', 1).load(\"/deltalake/delta-table\")\n",
    "df_v1.show()"
   ]
  }
 ],
 "metadata": {
  "kernelspec": {
   "display_name": "env_python3_11_13",
   "language": "python",
   "name": "python3"
  },
  "language_info": {
   "codemirror_mode": {
    "name": "ipython",
    "version": 3
   },
   "file_extension": ".py",
   "mimetype": "text/x-python",
   "name": "python",
   "nbconvert_exporter": "python",
   "pygments_lexer": "ipython3",
   "version": "3.11.13"
  }
 },
 "nbformat": 4,
 "nbformat_minor": 5
}

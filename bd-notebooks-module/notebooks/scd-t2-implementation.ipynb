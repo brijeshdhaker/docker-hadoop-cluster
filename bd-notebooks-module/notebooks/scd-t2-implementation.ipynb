{
 "cells": [
  {
   "cell_type": "markdown",
   "id": "a50b2ba7",
   "metadata": {},
   "source": [
    "Implementing Type 2 for SCD handling is fairly complex. In type 2 a new record is inserted with the latest values and previous records are marked as invalid. To keep track of the validity of records 3 additional columns are used. effective_date, expiration_date and current_flag.\n",
    "\n",
    "When the new record gets inserted effective_date is current_date, expiration_date is ‘9999–12–31’ and current_flag will be set to True. If some record got deleted in source data then its expiration_date is set to current_date and current_flag is False. If record get’s updated then record with old values expiration_date will be current_date and current_flag will be false. At the same time, new records will have effective_date as current_date, expiration_date as ‘9999–12–31’, and current_flag as True. To maintain a unique key column surrogate key is created which will be used as a foreign key in fact tables. It just becomes easy to filter records on the boolean column so I included it. It is possible to use only 2 columns i.e. effective_date and expiration_date to handle SCD Type 2. Surrogate key plays important role in maintaining link between fact and dimension table."
   ]
  },
  {
   "cell_type": "markdown",
   "id": "a108348d",
   "metadata": {},
   "source": [
    "the implementation of SCD Type 2 using PySpark with the following steps:\n",
    "\n",
    "`Checking Columns Presence`: Verify that all columns from the target DataFrame are present in the source DataFrame.\n",
    "\n",
    "`Applying Hash Calculation`: Calculate a hash value based on the target columns to identify changes in data.\n",
    "\n",
    "`Identifying New Records`: Perform a left anti-join to identify new records in the source DataFrame that do not exist in the target DataFrame.\n",
    "\n",
    "`Performing Left Join`: Join the source and target DataFrames using a left join on the specified join keys.\n",
    "\n",
    "`Filtering Records`: Filter the joined DataFrame to identify unchanged, updated, and obsolete records based on hash values and join keys.\n",
    "\n",
    "`Handling New Records`: Create new records for new entries in the source DataFrame and assign appropriate SCD2 metadata.\n",
    "\n",
    "`Handling Updated Records`: Update existing records in the target DataFrame with new values from the source DataFrame and assign appropriate SCD2 metadata.\n",
    "\n",
    "`Handling Obsolete Records`: Flag obsolete records in the target DataFrame with an end date and set a flag indicating their status.\n",
    "\n",
    "`Combining DataFrames`: Combine new, updated, and unchanged DataFrames to generate the final result DataFrame."
   ]
  },
  {
   "cell_type": "code",
   "execution_count": null,
   "id": "3c41022f",
   "metadata": {},
   "outputs": [],
   "source": [
    "from pyspark.sql import SparkSession\n",
    "from delta import configure_spark_with_delta_pip\n",
    "\n",
    "\n",
    "class SparkSessionManager:\n",
    "    def __init__(self, app_name, spark_conf=None):\n",
    "        self.app_name = app_name\n",
    "        self.spark_conf = spark_conf if spark_conf else {}\n",
    "\n",
    "    def create_session(self):\n",
    "        # Create a SparkSession\n",
    "        spark_builder = SparkSession.builder.appName(self.app_name) \\\n",
    "            .config(\"spark.sql.extensions\", \"io.delta.sql.DeltaSparkSessionExtension\") \\\n",
    "            .config(\"spark.sql.catalog.spark_catalog\", \"org.apache.spark.sql.delta.catalog.DeltaCatalog\")\n",
    "\n",
    "        # Apply Spark configuration\n",
    "        for key, value in self.spark_conf.items():\n",
    "            spark_builder.config(key, value)\n",
    "\n",
    "        spark = configure_spark_with_delta_pip(spark_builder).getOrCreate()\n",
    "        return spark"
   ]
  },
  {
   "cell_type": "code",
   "execution_count": null,
   "id": "a5ae85dd",
   "metadata": {},
   "outputs": [],
   "source": [
    "from pyspark.sql import DataFrame\n",
    "from pyspark.sql.functions import concat_ws, md5, col, current_date, lit\n",
    "\n",
    "from utils.logger import Logger\n",
    "from utils.spark_session import SparkSessionManager\n",
    "\n",
    "\n",
    "class SCDHandler:\n",
    "    def __init__(self):\n",
    "        self.spark = SparkSessionManager(self.__class__.__name__).create_session()\n",
    "        self.logger = Logger(self.__class__.__name__)\n",
    "\n",
    "    def check_columns_presence(self, source_df, target_df, metadata_cols):\n",
    "        \"\"\"\n",
    "        Check if all columns from the target DataFrame are present in the source DataFrame.\n",
    "\n",
    "        Args:\n",
    "            source_df (pyspark.sql.DataFrame): Source DataFrame.\n",
    "            target_df (pyspark.sql.DataFrame): Target DataFrame.\n",
    "\n",
    "        Raises:\n",
    "            Exception: If columns are missing in the source DataFrame.\n",
    "\n",
    "        Returns:\n",
    "            None\n",
    "        \"\"\"\n",
    "        cols_missing = set([cols for cols in target_df.columns if cols not in source_df.columns]) - set(metadata_cols)\n",
    "        if cols_missing:\n",
    "            raise Exception(f\"Cols missing in source DataFrame: {cols_missing}\")\n",
    "\n",
    "    def apply_hash_and_alias(self, source_df, target_df, metadata_cols) -> ([DataFrame, DataFrame]):\n",
    "        \"\"\"\n",
    "        Apply hash calculation and alias to source and target DataFrames.\n",
    "\n",
    "        Args:\n",
    "            source_df (pyspark.sql.DataFrame): Source DataFrame.\n",
    "            target_df (pyspark.sql.DataFrame): Target DataFrame.\n",
    "            metadata_cols (list): List of metadata columns to exclude from hash calculation.\n",
    "\n",
    "        Returns:\n",
    "            tuple: Tuple containing aliased source DataFrame and aliased target DataFrame.\n",
    "        \"\"\"\n",
    "        # Extract columns from target DataFrame excluding metadata columns\n",
    "        tgt_cols = [x for x in target_df.columns if x not in metadata_cols]\n",
    "\n",
    "        # Calculate hash expression\n",
    "        hash_expr = md5(concat_ws(\"|\", *[col(c) for c in tgt_cols]))\n",
    "\n",
    "        # Apply hash calculation and alias to source and target DataFrames\n",
    "        source_df = source_df.withColumn(\"hash_value\", hash_expr).alias(\"source_df\")\n",
    "        target_df = target_df.withColumn(\"hash_value\", hash_expr).alias(\"target_df\")\n",
    "\n",
    "        return source_df, target_df\n",
    "\n",
    "\n",
    "    def scd_2(self, source_df, target_df, join_keys, metadata_cols=None) -> DataFrame:\n",
    "        if metadata_cols is None:\n",
    "            metadata_cols = ['eff_start_date', 'eff_end_date', 'flag']\n",
    "        tgt_cols = [x for x in target_df.columns]\n",
    "        self.check_columns_presence(source_df, target_df, metadata_cols)\n",
    "        # Apply hash calculation and alias\n",
    "        source_df, target_df = self.apply_hash_and_alias(source_df, target_df, metadata_cols)\n",
    "\n",
    "        # Identify new records\n",
    "        join_cond = [source_df[join_key] == target_df[join_key] for join_key in join_keys]\n",
    "        new_df = source_df.join(target_df, join_cond, 'left_anti')\n",
    "\n",
    "        base_df = target_df.join(source_df, join_cond, 'left')\n",
    "\n",
    "        # Filter unchanged records or same records\n",
    "        unchanged_filter_expr = \" AND \".join([f\"source_df.{key} IS NULL\" for key in join_keys])\n",
    "        unchanged_df = base_df.filter(f\"({unchanged_filter_expr}) OR \"\n",
    "                                      f\"(source_df.hash_value = target_df.hash_value)\") \\\n",
    "            .select(\"target_df.*\")\n",
    "\n",
    "        # identify updated records\n",
    "        delta_filter_expr = \" and \".join([f\"source_df.{key} IS NOT NULL\" for key in join_keys])\n",
    "        updated_df = base_df.filter(f\"{delta_filter_expr} AND \"\n",
    "                                    f\"source_df.hash_value != target_df.hash_value\")\n",
    "\n",
    "        # pick updated records from source_df for new entry\n",
    "        updated_new_df = updated_df.select(\"source_df.*\")\n",
    "\n",
    "        # pick updated records from target_df for obsolete entry\n",
    "        obsolete_df = updated_df.select(\"target_df.*\") \\\n",
    "            .withColumn(\"eff_end_date\", current_date()) \\\n",
    "            .withColumn(\"flag\", lit(0))\n",
    "\n",
    "        # union : new & updated records and add scd2 meta-deta\n",
    "        delta_df = new_df.union(updated_new_df) \\\n",
    "            .withColumn(\"eff_start_date\", current_date()) \\\n",
    "            .withColumn(\"eff_end_date\", lit(None)) \\\n",
    "            .withColumn(\"flag\", lit(1))\n",
    "\n",
    "        # union all datasets : delta_df + obsolete_df + unchanged_df\n",
    "        result_df = unchanged_df.select(tgt_cols). \\\n",
    "            unionByName(delta_df.select(tgt_cols)). \\\n",
    "            unionByName(obsolete_df.select(tgt_cols))\n",
    "\n",
    "        return result_df"
   ]
  },
  {
   "cell_type": "code",
   "execution_count": null,
   "id": "037bddd9",
   "metadata": {},
   "outputs": [],
   "source": [
    "#\n",
    "## Constants\n",
    "DATE_FORMAT = \"yyyy-MM-dd\"\n",
    "EOW_DATE = \"9999-12-31\"\n",
    "KEY_LIST = [\"customerid\"]\n",
    "type2_cols = [\"CompanyName\", \"EmailAddress\", \"Phone\", \"ZipCode\"]\n",
    "scd2_cols = [\"effective_date\",\"expiration_date\",\"current_flag\"]\n"
   ]
  },
  {
   "cell_type": "code",
   "execution_count": null,
   "id": "e5dffa31",
   "metadata": {},
   "outputs": [],
   "source": [
    "import pyspark\n",
    "from pyspark.sql import SparkSession\n",
    "from pyspark.sql.functions import * \n",
    "from pyspark.sql.window import Window\n",
    "from os import path, listdir\n",
    "\n",
    "spark = SparkSession.builder.master(\"local[*]\").appName(\"scd-type2-implementation\").getOrCreate()\n",
    "spark.sparkContext.setLogLevel('ERROR')"
   ]
  },
  {
   "cell_type": "code",
   "execution_count": null,
   "id": "8f9943e4",
   "metadata": {},
   "outputs": [],
   "source": [
    "hist_customer_data = [\n",
    "    (1,'Mr.','Manish','Agrwal','Amazon','manishk@amazone.com','+9198209371','411014'),\n",
    "    (2,'Mr.','Vikash','Kumar','Citi','vikash@citi.com','+9198209372','411015'),\n",
    "    (3,'Mr.','Shilpa','Sexsena','Infosys','shilpa.k@infy.com','+9198209372','411016'),\n",
    "    (4,'Mr.','Rakesh','Dhaker','UBS','rd@ubs.com','+9198209372','411017'),\n",
    "    (5,'Mr.','Ayush','Kapoor','Nexflix','ak@netflix.com','+9198209372','411018'),\n",
    "    (6,'Mr.','Pritesh','Soni','Wipro','ps@wipro.com','+9198209372','411019'),\n",
    "    (7,'Mr.','Manoj','Sain','HCL','ms@hcl.com','+9198209372','411010'),\n",
    "    (8,'Ms','Nikita','Gangniak','Sony','ng@sony.com','+9198209372','411011'),\n",
    "    (9,'Mr.','Shubham','Khurana','LG','sk@lg.com','+9198209372','411012'),\n",
    "    (10,'Mr.','Omkar','Shrma','Samsung','omkar@samsung.com','+9198209372','411013')\n",
    "]\n",
    "\n",
    "## Modified the source data so that we can cover all scenarios. \n",
    "# Cutomerid 6 got deleted. \n",
    "# New customer Rahul Jain is added with customerid 11. \n",
    "# Customerid 2 changed his company and email.\n",
    "curr_customer_data = [\n",
    "    (1,'Mr.','Manish','Agrwal','Amazon','manishk@amazone.com','+9198209371','411014'),\n",
    "    (2,'Mr.','Vikash','Kumar','JPMC','vikash@jpmc.com','+9198209372','411015'),\n",
    "    (3,'Ms.','Shilpa','Sexsena','Infosys','shilpa.k@infy.com','+9198209372','411016'),\n",
    "    (4,'Mr.','Rakesh','Dhaker','UBS','rd@ubs.com','+9198209372','411017'),\n",
    "    (5,'Mr.','Ayush','Kapoor','Nexflix','ak@netflix.com','+9198209372','411018'),\n",
    "    (7,'Mr.','Manoj','Sain','HCL','ms@hcl.com','+9198209372','411010'),\n",
    "    (8,'Ms.','Nikita','Gangniak','Sony','ng@sony.com','+9198209372','411011'),\n",
    "    (9,'Mr.','Shubham','Khurana','LG','sk@lg.com','+9198209372','411012'),\n",
    "    (11,'Mr.','Rahul','Jain','Samsung','rahul@samsung.com','+9198209372','411013')\n",
    "]\n",
    "\n",
    "# CustomerID,Title,FirstName,LastName,CompanyName,EmailAddress,Phone,ZipCode\n",
    "customer_schema= ['CustomerID','Title','FirstName','LastName','CompanyName','EmailAddress','Phone','ZipCode']\n"
   ]
  },
  {
   "cell_type": "code",
   "execution_count": 30,
   "id": "467ef2a2",
   "metadata": {},
   "outputs": [],
   "source": [
    "def column_renamer(df, suffix, append):\n",
    "    \"\"\"\n",
    "    input:\n",
    "        df: dataframe\n",
    "        suffix: suffix to be appended to column name\n",
    "        append: boolean value \n",
    "                if true append suffix else remove suffix\n",
    "    \n",
    "    output:\n",
    "        df: df with renamed column\n",
    "    \"\"\"\n",
    "    if append:\n",
    "        new_column_names = list(map(lambda x: x+suffix, df.columns))\n",
    "    else:\n",
    "        new_column_names = list(map(lambda x: x.replace(suffix,\"\"), df.columns))\n",
    "    return df.toDF(*new_column_names)\n",
    "\n",
    "def get_hash(df, keys_list):\n",
    "    \"\"\"\n",
    "    input:\n",
    "        df: dataframe\n",
    "        key_list: list of columns to be hashed    \n",
    "    output:\n",
    "        df: df with hashed column\n",
    "    \"\"\"\n",
    "    columns = [col(column) for column in keys_list]\n",
    "    if columns:\n",
    "        return df.withColumn(\"hash_md5\", md5(concat_ws(\"\", *columns)))\n",
    "    else:\n",
    "        return df.withColumn(\"hash_md5\", md5(lit(1)))"
   ]
  },
  {
   "cell_type": "markdown",
   "id": "182ac32a",
   "metadata": {},
   "source": [
    "##### Current Data"
   ]
  },
  {
   "cell_type": "code",
   "execution_count": 31,
   "id": "17e293df",
   "metadata": {},
   "outputs": [
    {
     "name": "stdout",
     "output_type": "stream",
     "text": [
      "+----------+-----+---------+--------+-----------+-------------------+-----------+-------+\n",
      "|CustomerID|Title|FirstName|LastName|CompanyName|       EmailAddress|      Phone|ZipCode|\n",
      "+----------+-----+---------+--------+-----------+-------------------+-----------+-------+\n",
      "|         1|  Mr.|   Manish|  Agrwal|     Amazon|manishk@amazone.com|+9198209371| 411014|\n",
      "|         2|  Mr.|   Vikash|   Kumar|       JPMC|    vikash@jpmc.com|+9198209372| 411018|\n",
      "|         3|  Ms.|   Shilpa| Sexsena|    Infosys|  shilpa.k@infy.com|+9198209372| 411016|\n",
      "|         4|  Mr.|   Rakesh|  Dhaker|        UBS|         rd@ubs.com|+9198209372| 411017|\n",
      "|         5|  Mr.|    Ayush|  Kapoor|    Nexflix|     ak@netflix.com|+9198209372| 411018|\n",
      "|         7|  Mr.|    Manoj|    Sain|        HCL|         ms@hcl.com|+9198209372| 411010|\n",
      "|         8|  Ms.|   Nikita|Gangniak|       Sony|        ng@sony.com|+9198209372| 411011|\n",
      "|         9|  Mr.|  Shubham| Khurana|         LG|          sk@lg.com|+9198209372| 411012|\n",
      "|        11|  Mr.|    Rahul|    Jain|    Samsung|  rahul@samsung.com|+9198209372| 411013|\n",
      "+----------+-----+---------+--------+-----------+-------------------+-----------+-------+\n",
      "\n"
     ]
    }
   ],
   "source": [
    "# Form next run we need to compare current data with history data\n",
    "# e.g. comparing today's data with yesterday's data\n",
    "\n",
    "# Create df_current using SOURCE_PATH\n",
    "df_current = spark.createDataFrame(data=curr_customer_data,schema=customer_schema)\n",
    "df_current.show()\n"
   ]
  },
  {
   "cell_type": "markdown",
   "id": "87fd0b53",
   "metadata": {},
   "source": [
    "#### History Data"
   ]
  },
  {
   "cell_type": "code",
   "execution_count": 32,
   "id": "19b5e248",
   "metadata": {},
   "outputs": [
    {
     "name": "stderr",
     "output_type": "stream",
     "text": [
      "25/10/17 09:10:57 WARN WindowExec: No Partition Defined for Window operation! Moving all data to a single partition, this can cause serious performance degradation.\n",
      "25/10/17 09:10:57 WARN WindowExec: No Partition Defined for Window operation! Moving all data to a single partition, this can cause serious performance degradation.\n",
      "25/10/17 09:10:57 WARN WindowExec: No Partition Defined for Window operation! Moving all data to a single partition, this can cause serious performance degradation.\n"
     ]
    },
    {
     "name": "stdout",
     "output_type": "stream",
     "text": [
      "+----------+-----+---------+--------+-----------+-------------------+-----------+-------+--------------+--------------+---------------+------------+\n",
      "|CustomerID|Title|FirstName|LastName|CompanyName|       EmailAddress|      Phone|ZipCode|sk_customer_id|effective_date|expiration_date|current_flag|\n",
      "+----------+-----+---------+--------+-----------+-------------------+-----------+-------+--------------+--------------+---------------+------------+\n",
      "|         1|  Mr.|   Manish|  Agrwal|     Amazon|manishk@amazone.com|+9198209371| 411014|             1|    2025-10-17|     9999-12-31|        true|\n",
      "|         2|  Mr.|   Vikash|   Kumar|       Citi|    vikash@citi.com|+9198209372| 411015|             2|    2025-10-17|     9999-12-31|        true|\n",
      "|         3|  Mr.|   Shilpa| Sexsena|    Infosys|  shilpa.k@infy.com|+9198209372| 411016|             3|    2025-10-17|     9999-12-31|        true|\n",
      "|         4|  Mr.|   Rakesh|  Dhaker|        UBS|         rd@ubs.com|+9198209372| 411017|             4|    2025-10-17|     9999-12-31|        true|\n",
      "|         5|  Mr.|    Ayush|  Kapoor|    Nexflix|     ak@netflix.com|+9198209372| 411018|             5|    2025-10-17|     9999-12-31|        true|\n",
      "|         6|  Mr.|  Pritesh|    Soni|      Wipro|       ps@wipro.com|+9198209372| 411019|             6|    2025-10-17|     9999-12-31|        true|\n",
      "|         7|  Mr.|    Manoj|    Sain|        HCL|         ms@hcl.com|+9198209372| 411010|             7|    2025-10-17|     9999-12-31|        true|\n",
      "|         8|   Ms|   Nikita|Gangniak|       Sony|        ng@sony.com|+9198209372| 411011|             8|    2025-10-17|     9999-12-31|        true|\n",
      "|         9|  Mr.|  Shubham| Khurana|         LG|          sk@lg.com|+9198209372| 411012|             9|    2025-10-17|     9999-12-31|        true|\n",
      "|        10|  Mr.|    Omkar|   Shrma|    Samsung|  omkar@samsung.com|+9198209372| 411013|            10|    2025-10-17|     9999-12-31|        true|\n",
      "+----------+-----+---------+--------+-----------+-------------------+-----------+-------+--------------+--------------+---------------+------------+\n",
      "\n"
     ]
    }
   ],
   "source": [
    "# During first run will be loaded with all records set to effective_date = current_date() \n",
    "# expiration_date = \"9999-12-31\" and current_flag = True\n",
    "# as there is no previous day data sk_customer_id is sarrogate key for dataframe\n",
    "\n",
    "window_spec  = Window.orderBy(\"customerid\")\n",
    "\n",
    "#\n",
    "df_history = spark.createDataFrame(data=hist_customer_data,schema=customer_schema)\\\n",
    "                .withColumn(\"sk_customer_id\",row_number().over(window_spec))\\\n",
    "                .withColumn(\"effective_date\",date_format(current_date(), DATE_FORMAT))\\\n",
    "                .withColumn(\"expiration_date\",date_format(lit(EOW_DATE), DATE_FORMAT))\\\n",
    "                .withColumn(\"current_flag\", lit(True))\n",
    "\n",
    "\n",
    "df_history.show()"
   ]
  },
  {
   "cell_type": "code",
   "execution_count": 33,
   "id": "46aedbe2",
   "metadata": {},
   "outputs": [
    {
     "name": "stderr",
     "output_type": "stream",
     "text": [
      "25/10/17 09:14:10 WARN WindowExec: No Partition Defined for Window operation! Moving all data to a single partition, this can cause serious performance degradation.\n",
      "25/10/17 09:14:10 WARN WindowExec: No Partition Defined for Window operation! Moving all data to a single partition, this can cause serious performance degradation.\n",
      "25/10/17 09:14:10 WARN WindowExec: No Partition Defined for Window operation! Moving all data to a single partition, this can cause serious performance degradation.\n",
      "25/10/17 09:14:10 WARN WindowExec: No Partition Defined for Window operation! Moving all data to a single partition, this can cause serious performance degradation.\n",
      "25/10/17 09:14:10 WARN WindowExec: No Partition Defined for Window operation! Moving all data to a single partition, this can cause serious performance degradation.\n",
      "25/10/17 09:14:10 WARN WindowExec: No Partition Defined for Window operation! Moving all data to a single partition, this can cause serious performance degradation.\n"
     ]
    },
    {
     "name": "stdout",
     "output_type": "stream",
     "text": [
      "+------------------+-------------+-----------------+----------------+-------------------+--------------------+-------------+---------------+----------------------+----------------------+-----------------------+--------------------+--------------------+------------------+-------------+-----------------+----------------+-------------------+--------------------+-------------+---------------+--------------------+--------+\n",
      "|CustomerID_history|Title_history|FirstName_history|LastName_history|CompanyName_history|EmailAddress_history|Phone_history|ZipCode_history|sk_customer_id_history|effective_date_history|expiration_date_history|current_flag_history|    hash_md5_history|CustomerID_current|Title_current|FirstName_current|LastName_current|CompanyName_current|EmailAddress_current|Phone_current|ZipCode_current|    hash_md5_current|  Action|\n",
      "+------------------+-------------+-----------------+----------------+-------------------+--------------------+-------------+---------------+----------------------+----------------------+-----------------------+--------------------+--------------------+------------------+-------------+-----------------+----------------+-------------------+--------------------+-------------+---------------+--------------------+--------+\n",
      "|                 1|          Mr.|           Manish|          Agrwal|             Amazon| manishk@amazone.com|  +9198209371|         411014|                     1|            2025-10-17|             9999-12-31|                true|2b01f1684629b3aad...|                 1|          Mr.|           Manish|          Agrwal|             Amazon| manishk@amazone.com|  +9198209371|         411014|2b01f1684629b3aad...|NOCHANGE|\n",
      "|                 2|          Mr.|           Vikash|           Kumar|               Citi|     vikash@citi.com|  +9198209372|         411015|                     2|            2025-10-17|             9999-12-31|                true|350c9ad42b5b66953...|                 2|          Mr.|           Vikash|           Kumar|               JPMC|     vikash@jpmc.com|  +9198209372|         411018|94239637784d04d91...|  UPDATE|\n",
      "|                 3|          Mr.|           Shilpa|         Sexsena|            Infosys|   shilpa.k@infy.com|  +9198209372|         411016|                     3|            2025-10-17|             9999-12-31|                true|be15b4aa550a8bc74...|                 3|          Ms.|           Shilpa|         Sexsena|            Infosys|   shilpa.k@infy.com|  +9198209372|         411016|be15b4aa550a8bc74...|NOCHANGE|\n",
      "|                 4|          Mr.|           Rakesh|          Dhaker|                UBS|          rd@ubs.com|  +9198209372|         411017|                     4|            2025-10-17|             9999-12-31|                true|13c5f44672fa24ac6...|                 4|          Mr.|           Rakesh|          Dhaker|                UBS|          rd@ubs.com|  +9198209372|         411017|13c5f44672fa24ac6...|NOCHANGE|\n",
      "|                 5|          Mr.|            Ayush|          Kapoor|            Nexflix|      ak@netflix.com|  +9198209372|         411018|                     5|            2025-10-17|             9999-12-31|                true|1419eba6b112fed2d...|                 5|          Mr.|            Ayush|          Kapoor|            Nexflix|      ak@netflix.com|  +9198209372|         411018|1419eba6b112fed2d...|NOCHANGE|\n",
      "|                 6|          Mr.|          Pritesh|            Soni|              Wipro|        ps@wipro.com|  +9198209372|         411019|                     6|            2025-10-17|             9999-12-31|                true|41d148a46883e7e9b...|              NULL|         NULL|             NULL|            NULL|               NULL|                NULL|         NULL|           NULL|                NULL|  DELETE|\n",
      "|                 7|          Mr.|            Manoj|            Sain|                HCL|          ms@hcl.com|  +9198209372|         411010|                     7|            2025-10-17|             9999-12-31|                true|8e53a08fd4ca50f38...|                 7|          Mr.|            Manoj|            Sain|                HCL|          ms@hcl.com|  +9198209372|         411010|8e53a08fd4ca50f38...|NOCHANGE|\n",
      "|                 8|           Ms|           Nikita|        Gangniak|               Sony|         ng@sony.com|  +9198209372|         411011|                     8|            2025-10-17|             9999-12-31|                true|293d48210abde0ead...|                 8|          Ms.|           Nikita|        Gangniak|               Sony|         ng@sony.com|  +9198209372|         411011|293d48210abde0ead...|NOCHANGE|\n",
      "|                 9|          Mr.|          Shubham|         Khurana|                 LG|           sk@lg.com|  +9198209372|         411012|                     9|            2025-10-17|             9999-12-31|                true|2586eb4790e14e534...|                 9|          Mr.|          Shubham|         Khurana|                 LG|           sk@lg.com|  +9198209372|         411012|2586eb4790e14e534...|NOCHANGE|\n",
      "|                10|          Mr.|            Omkar|           Shrma|            Samsung|   omkar@samsung.com|  +9198209372|         411013|                    10|            2025-10-17|             9999-12-31|                true|fada000430d47d77d...|              NULL|         NULL|             NULL|            NULL|               NULL|                NULL|         NULL|           NULL|                NULL|  DELETE|\n",
      "|              NULL|         NULL|             NULL|            NULL|               NULL|                NULL|         NULL|           NULL|                  NULL|                  NULL|                   NULL|                NULL|                NULL|                11|          Mr.|            Rahul|            Jain|            Samsung|   rahul@samsung.com|  +9198209372|         411013|43c02c9ecbde7998d...|  INSERT|\n",
      "+------------------+-------------+-----------------+----------------+-------------------+--------------------+-------------+---------------+----------------------+----------------------+-----------------------+--------------------+--------------------+------------------+-------------+-----------------+----------------+-------------------+--------------------+-------------+---------------+--------------------+--------+\n",
      "\n"
     ]
    },
    {
     "name": "stderr",
     "output_type": "stream",
     "text": [
      "25/10/17 09:14:11 WARN WindowExec: No Partition Defined for Window operation! Moving all data to a single partition, this can cause serious performance degradation.\n",
      "25/10/17 09:14:11 WARN WindowExec: No Partition Defined for Window operation! Moving all data to a single partition, this can cause serious performance degradation.\n"
     ]
    }
   ],
   "source": [
    "# Find the max size of sarrogate key in df_history \n",
    "# It will be used to create sarrogate key for new and updated records\n",
    "max_sk = df_history.agg({\"sk_customer_id\": \"max\"}).collect()[0][0]\n",
    "\n",
    "# filter out open records from df_history\n",
    "# we don't need to do any changes in closed records\n",
    "df_history_open = df_history.where(col(\"current_flag\"))\n",
    "df_history_closed = df_history.where(col(\"current_flag\")==lit(False))\n",
    "\n",
    "# Generate hash for type2 columns and rename column names \n",
    "# with _history and _current as suffix \n",
    "df_history_open_hash = column_renamer(get_hash(df_history_open, type2_cols), suffix=\"_history\", append=True)\n",
    "df_current_hash = column_renamer(get_hash(df_current, type2_cols), suffix=\"_current\", append=True)\n",
    "\n",
    "# Apply full outer join to history_open and current dataframes\n",
    "# Create a new column which will be used to flag records\n",
    "# 1. If hash_md5_current & hash_md5_history are same then NOCHANGE\n",
    "# 2. If CustomerID_current is null then DELETE\n",
    "# 3. If CustomerID_history is null then INSERT\n",
    "# 4. Else UPDATE\n",
    "df_merged = df_history_open_hash\\\n",
    "            .join(df_current_hash, col(\"CustomerID_current\") ==  col(\"CustomerID_history\"), how=\"full_outer\")\\\n",
    "            .withColumn(\"Action\", when(col(\"hash_md5_current\") == col(\"hash_md5_history\")  , 'NOCHANGE')\\\n",
    "            .when(col(\"CustomerID_current\").isNull(), 'DELETE')\\\n",
    "            .when(col(\"CustomerID_history\").isNull(), 'INSERT')\\\n",
    "            .otherwise('UPDATE'))\n",
    "\n",
    "df_merged.show()"
   ]
  },
  {
   "cell_type": "code",
   "execution_count": 34,
   "id": "200223df",
   "metadata": {},
   "outputs": [
    {
     "name": "stderr",
     "output_type": "stream",
     "text": [
      "25/10/17 09:14:35 WARN WindowExec: No Partition Defined for Window operation! Moving all data to a single partition, this can cause serious performance degradation.\n",
      "25/10/17 09:14:35 WARN WindowExec: No Partition Defined for Window operation! Moving all data to a single partition, this can cause serious performance degradation.\n",
      "25/10/17 09:14:35 WARN WindowExec: No Partition Defined for Window operation! Moving all data to a single partition, this can cause serious performance degradation.\n",
      "25/10/17 09:14:36 WARN WindowExec: No Partition Defined for Window operation! Moving all data to a single partition, this can cause serious performance degradation.\n"
     ]
    },
    {
     "name": "stdout",
     "output_type": "stream",
     "text": [
      "+----------+-----+---------+--------+-----------+-------------------+-----------+-------+--------------+--------------+---------------+------------+\n",
      "|CustomerID|Title|FirstName|LastName|CompanyName|       EmailAddress|      Phone|ZipCode|sk_customer_id|effective_date|expiration_date|current_flag|\n",
      "+----------+-----+---------+--------+-----------+-------------------+-----------+-------+--------------+--------------+---------------+------------+\n",
      "|         1|  Mr.|   Manish|  Agrwal|     Amazon|manishk@amazone.com|+9198209371| 411014|             1|    2025-10-17|     9999-12-31|        true|\n",
      "|         3|  Mr.|   Shilpa| Sexsena|    Infosys|  shilpa.k@infy.com|+9198209372| 411016|             3|    2025-10-17|     9999-12-31|        true|\n",
      "|         4|  Mr.|   Rakesh|  Dhaker|        UBS|         rd@ubs.com|+9198209372| 411017|             4|    2025-10-17|     9999-12-31|        true|\n",
      "|         5|  Mr.|    Ayush|  Kapoor|    Nexflix|     ak@netflix.com|+9198209372| 411018|             5|    2025-10-17|     9999-12-31|        true|\n",
      "|         7|  Mr.|    Manoj|    Sain|        HCL|         ms@hcl.com|+9198209372| 411010|             7|    2025-10-17|     9999-12-31|        true|\n",
      "|         8|   Ms|   Nikita|Gangniak|       Sony|        ng@sony.com|+9198209372| 411011|             8|    2025-10-17|     9999-12-31|        true|\n",
      "|         9|  Mr.|  Shubham| Khurana|         LG|          sk@lg.com|+9198209372| 411012|             9|    2025-10-17|     9999-12-31|        true|\n",
      "+----------+-----+---------+--------+-----------+-------------------+-----------+-------+--------------+--------------+---------------+------------+\n",
      "\n"
     ]
    }
   ],
   "source": [
    "window_spec  = Window.orderBy(\"customerid\")\n",
    "\n",
    "# Filter records with action NOCHANGE remove suffix '_history' from column names \n",
    "# and select columns same as df_history_open\n",
    "df_nochange = column_renamer(df_merged.filter(col(\"action\") == 'NOCHANGE'), suffix=\"_history\", append=False)\\\n",
    "                .select(df_history_open.columns)\n",
    "\n",
    "df_nochange.show()"
   ]
  },
  {
   "cell_type": "code",
   "execution_count": 35,
   "id": "1b17d8aa",
   "metadata": {},
   "outputs": [
    {
     "name": "stderr",
     "output_type": "stream",
     "text": [
      "25/10/17 09:15:32 WARN WindowExec: No Partition Defined for Window operation! Moving all data to a single partition, this can cause serious performance degradation.\n",
      "25/10/17 09:15:32 WARN WindowExec: No Partition Defined for Window operation! Moving all data to a single partition, this can cause serious performance degradation.\n",
      "25/10/17 09:15:32 WARN WindowExec: No Partition Defined for Window operation! Moving all data to a single partition, this can cause serious performance degradation.\n"
     ]
    },
    {
     "name": "stdout",
     "output_type": "stream",
     "text": [
      "+----------+-----+---------+--------+-----------+-----------------+-----------+-------+--------------+---------------+--------------+------------+\n",
      "|CustomerID|Title|FirstName|LastName|CompanyName|     EmailAddress|      Phone|ZipCode|effective_date|expiration_date|sk_customer_id|current_flag|\n",
      "+----------+-----+---------+--------+-----------+-----------------+-----------+-------+--------------+---------------+--------------+------------+\n",
      "|        11|  Mr.|    Rahul|    Jain|    Samsung|rahul@samsung.com|+9198209372| 411013|    2025-10-17|     9999-12-31|            11|        true|\n",
      "+----------+-----+---------+--------+-----------+-----------------+-----------+-------+--------------+---------------+--------------+------------+\n",
      "\n"
     ]
    },
    {
     "name": "stderr",
     "output_type": "stream",
     "text": [
      "25/10/17 09:15:32 WARN WindowExec: No Partition Defined for Window operation! Moving all data to a single partition, this can cause serious performance degradation.\n",
      "25/10/17 09:15:32 WARN WindowExec: No Partition Defined for Window operation! Moving all data to a single partition, this can cause serious performance degradation.\n",
      "25/10/17 09:15:32 WARN WindowExec: No Partition Defined for Window operation! Moving all data to a single partition, this can cause serious performance degradation.\n",
      "25/10/17 09:15:32 WARN WindowExec: No Partition Defined for Window operation! Moving all data to a single partition, this can cause serious performance degradation.\n",
      "25/10/17 09:15:32 WARN WindowExec: No Partition Defined for Window operation! Moving all data to a single partition, this can cause serious performance degradation.\n"
     ]
    }
   ],
   "source": [
    "# Filter records with action INSERT, remove suffix _current from column names\n",
    "# and select columns same as df_current\n",
    "# add effective date as current_date, expiration date as EOW_DATE and current flag as True\n",
    "# to create sarrogate key row numbers are created and added with max_sk value\n",
    "df_insert = column_renamer(df_merged.filter(col(\"action\") == 'INSERT'), suffix=\"_current\", append=False)\\\n",
    "                .select(df_current.columns)\\\n",
    "                .withColumn(\"effective_date\",date_format(current_date(),DATE_FORMAT))\\\n",
    "                .withColumn(\"expiration_date\",date_format(lit(EOW_DATE),DATE_FORMAT))\\\n",
    "                .withColumn(\"row_number\",row_number().over(window_spec))\\\n",
    "                .withColumn(\"sk_customer_id\",col(\"row_number\")+ max_sk)\\\n",
    "                .withColumn(\"current_flag\", lit(True))\\\n",
    "                .drop(\"row_number\")\n",
    "\n",
    "df_insert.show()"
   ]
  },
  {
   "cell_type": "code",
   "execution_count": 36,
   "id": "749f9b8d",
   "metadata": {},
   "outputs": [
    {
     "name": "stderr",
     "output_type": "stream",
     "text": [
      "25/10/17 09:15:36 WARN WindowExec: No Partition Defined for Window operation! Moving all data to a single partition, this can cause serious performance degradation.\n",
      "25/10/17 09:15:36 WARN WindowExec: No Partition Defined for Window operation! Moving all data to a single partition, this can cause serious performance degradation.\n",
      "25/10/17 09:15:36 WARN WindowExec: No Partition Defined for Window operation! Moving all data to a single partition, this can cause serious performance degradation.\n",
      "25/10/17 09:15:36 WARN WindowExec: No Partition Defined for Window operation! Moving all data to a single partition, this can cause serious performance degradation.\n",
      "25/10/17 09:15:36 WARN WindowExec: No Partition Defined for Window operation! Moving all data to a single partition, this can cause serious performance degradation.\n",
      "25/10/17 09:15:36 WARN WindowExec: No Partition Defined for Window operation! Moving all data to a single partition, this can cause serious performance degradation.\n",
      "25/10/17 09:15:36 WARN WindowExec: No Partition Defined for Window operation! Moving all data to a single partition, this can cause serious performance degradation.\n",
      "25/10/17 09:15:36 WARN WindowExec: No Partition Defined for Window operation! Moving all data to a single partition, this can cause serious performance degradation.\n",
      "25/10/17 09:15:37 WARN WindowExec: No Partition Defined for Window operation! Moving all data to a single partition, this can cause serious performance degradation.\n",
      "25/10/17 09:15:37 WARN WindowExec: No Partition Defined for Window operation! Moving all data to a single partition, this can cause serious performance degradation.\n",
      "25/10/17 09:15:37 WARN WindowExec: No Partition Defined for Window operation! Moving all data to a single partition, this can cause serious performance degradation.\n",
      "25/10/17 09:15:37 WARN WindowExec: No Partition Defined for Window operation! Moving all data to a single partition, this can cause serious performance degradation.\n"
     ]
    },
    {
     "name": "stdout",
     "output_type": "stream",
     "text": [
      "+----------+-----+---------+--------+-----------+-----------------+-----------+-------+--------------+--------------+---------------+------------+\n",
      "|CustomerID|Title|FirstName|LastName|CompanyName|     EmailAddress|      Phone|ZipCode|sk_customer_id|effective_date|expiration_date|current_flag|\n",
      "+----------+-----+---------+--------+-----------+-----------------+-----------+-------+--------------+--------------+---------------+------------+\n",
      "|         6|  Mr.|  Pritesh|    Soni|      Wipro|     ps@wipro.com|+9198209372| 411019|             6|    2025-10-17|     2025-10-17|       false|\n",
      "|        10|  Mr.|    Omkar|   Shrma|    Samsung|omkar@samsung.com|+9198209372| 411013|            10|    2025-10-17|     2025-10-17|       false|\n",
      "+----------+-----+---------+--------+-----------+-----------------+-----------+-------+--------------+--------------+---------------+------------+\n",
      "\n"
     ]
    }
   ],
   "source": [
    "# max_sk value is updated using max value from df_insert\n",
    "max_sk = df_insert.agg({\"sk_customer_id\": \"max\"}).collect()[0][0]\n",
    "\n",
    "# Filter records with action DELETE remove suffix '_history' from column names \n",
    "# and select columns same as df_history_open\n",
    "# set expiration date to current_date and current_flag to false\n",
    "df_deleted = column_renamer(df_merged.filter(col(\"action\") == 'DELETE'), suffix=\"_history\", append=False)\\\n",
    "                .select(df_history_open.columns)\\\n",
    "                .withColumn(\"expiration_date\", date_format(current_date(),DATE_FORMAT))\\\n",
    "                .withColumn(\"current_flag\", lit(False))\n",
    "\n",
    "df_deleted.show()"
   ]
  },
  {
   "cell_type": "code",
   "execution_count": 37,
   "id": "ee134f21",
   "metadata": {},
   "outputs": [
    {
     "name": "stderr",
     "output_type": "stream",
     "text": [
      "25/10/17 09:15:46 WARN WindowExec: No Partition Defined for Window operation! Moving all data to a single partition, this can cause serious performance degradation.\n",
      "25/10/17 09:15:46 WARN WindowExec: No Partition Defined for Window operation! Moving all data to a single partition, this can cause serious performance degradation.\n",
      "25/10/17 09:15:46 WARN WindowExec: No Partition Defined for Window operation! Moving all data to a single partition, this can cause serious performance degradation.\n",
      "25/10/17 09:15:46 WARN WindowExec: No Partition Defined for Window operation! Moving all data to a single partition, this can cause serious performance degradation.\n",
      "25/10/17 09:15:46 WARN WindowExec: No Partition Defined for Window operation! Moving all data to a single partition, this can cause serious performance degradation.\n",
      "25/10/17 09:15:46 WARN WindowExec: No Partition Defined for Window operation! Moving all data to a single partition, this can cause serious performance degradation.\n",
      "25/10/17 09:15:46 WARN WindowExec: No Partition Defined for Window operation! Moving all data to a single partition, this can cause serious performance degradation.\n",
      "25/10/17 09:15:46 WARN WindowExec: No Partition Defined for Window operation! Moving all data to a single partition, this can cause serious performance degradation.\n",
      "25/10/17 09:15:46 WARN WindowExec: No Partition Defined for Window operation! Moving all data to a single partition, this can cause serious performance degradation.\n",
      "25/10/17 09:15:46 WARN WindowExec: No Partition Defined for Window operation! Moving all data to a single partition, this can cause serious performance degradation.\n",
      "25/10/17 09:15:46 WARN WindowExec: No Partition Defined for Window operation! Moving all data to a single partition, this can cause serious performance degradation.\n",
      "25/10/17 09:15:46 WARN WindowExec: No Partition Defined for Window operation! Moving all data to a single partition, this can cause serious performance degradation.\n",
      "25/10/17 09:15:46 WARN WindowExec: No Partition Defined for Window operation! Moving all data to a single partition, this can cause serious performance degradation.\n",
      "25/10/17 09:15:46 WARN WindowExec: No Partition Defined for Window operation! Moving all data to a single partition, this can cause serious performance degradation.\n",
      "25/10/17 09:15:47 WARN WindowExec: No Partition Defined for Window operation! Moving all data to a single partition, this can cause serious performance degradation.\n",
      "25/10/17 09:15:47 WARN WindowExec: No Partition Defined for Window operation! Moving all data to a single partition, this can cause serious performance degradation.\n"
     ]
    },
    {
     "name": "stdout",
     "output_type": "stream",
     "text": [
      "+----------+-----+---------+--------+-----------+---------------+-----------+-------+--------------+--------------+---------------+------------+\n",
      "|CustomerID|Title|FirstName|LastName|CompanyName|   EmailAddress|      Phone|ZipCode|sk_customer_id|effective_date|expiration_date|current_flag|\n",
      "+----------+-----+---------+--------+-----------+---------------+-----------+-------+--------------+--------------+---------------+------------+\n",
      "|         2|  Mr.|   Vikash|   Kumar|       Citi|vikash@citi.com|+9198209372| 411015|             2|    2025-10-17|     2025-10-17|       false|\n",
      "|         2|  Mr.|   Vikash|   Kumar|       JPMC|vikash@jpmc.com|+9198209372| 411018|            12|    2025-10-17|     9999-12-31|        true|\n",
      "+----------+-----+---------+--------+-----------+---------------+-----------+-------+--------------+--------------+---------------+------------+\n",
      "\n"
     ]
    },
    {
     "name": "stderr",
     "output_type": "stream",
     "text": [
      "25/10/17 09:15:47 WARN WindowExec: No Partition Defined for Window operation! Moving all data to a single partition, this can cause serious performance degradation.\n",
      "                                                                                \r"
     ]
    }
   ],
   "source": [
    "# Filter records with action UPDATE remove suffix '_history' from column names \n",
    "# and select columns same as df_history_open\n",
    "# set expiration date to current_date and current_flag to false\n",
    "#\n",
    "# select columns same as df_current\n",
    "# set effective_date as current_date and expiration_date as EOW_DATE\n",
    "# current_flag as true\n",
    "# use similar logic to create sequencial sarrogate key for updated records \n",
    "# union both parts into one dataframe\n",
    "df_update = column_renamer(df_merged.filter(col(\"action\") == 'UPDATE'), suffix=\"_history\", append=False)\\\n",
    "                .select(df_history_open.columns)\\\n",
    "                .withColumn(\"expiration_date\", date_format(current_date(),DATE_FORMAT))\\\n",
    "                .withColumn(\"current_flag\", lit(False))\\\n",
    "            .unionByName(\n",
    "            column_renamer(df_merged.filter(col(\"action\") == 'UPDATE'), suffix=\"_current\", append=False)\\\n",
    "                .select(df_current.columns)\\\n",
    "                .withColumn(\"effective_date\",date_format(current_date(),DATE_FORMAT))\\\n",
    "                .withColumn(\"expiration_date\",date_format(lit(EOW_DATE),DATE_FORMAT))\\\n",
    "                .withColumn(\"row_number\",row_number().over(window_spec))\\\n",
    "                .withColumn(\"sk_customer_id\",col(\"row_number\")+ max_sk)\\\n",
    "                .withColumn(\"current_flag\", lit(True))\\\n",
    "                .drop(\"row_number\")\n",
    "                )\n",
    "\n",
    "df_update.show()"
   ]
  },
  {
   "cell_type": "code",
   "execution_count": 38,
   "id": "6afb44f9",
   "metadata": {},
   "outputs": [
    {
     "name": "stderr",
     "output_type": "stream",
     "text": [
      "25/10/17 09:16:11 WARN WindowExec: No Partition Defined for Window operation! Moving all data to a single partition, this can cause serious performance degradation.\n",
      "25/10/17 09:16:11 WARN WindowExec: No Partition Defined for Window operation! Moving all data to a single partition, this can cause serious performance degradation.\n",
      "25/10/17 09:16:11 WARN WindowExec: No Partition Defined for Window operation! Moving all data to a single partition, this can cause serious performance degradation.\n",
      "25/10/17 09:16:11 WARN WindowExec: No Partition Defined for Window operation! Moving all data to a single partition, this can cause serious performance degradation.\n",
      "25/10/17 09:16:11 WARN WindowExec: No Partition Defined for Window operation! Moving all data to a single partition, this can cause serious performance degradation.\n",
      "25/10/17 09:16:11 WARN WindowExec: No Partition Defined for Window operation! Moving all data to a single partition, this can cause serious performance degradation.\n",
      "25/10/17 09:16:11 WARN WindowExec: No Partition Defined for Window operation! Moving all data to a single partition, this can cause serious performance degradation.\n",
      "25/10/17 09:16:11 WARN WindowExec: No Partition Defined for Window operation! Moving all data to a single partition, this can cause serious performance degradation.\n",
      "25/10/17 09:16:11 WARN WindowExec: No Partition Defined for Window operation! Moving all data to a single partition, this can cause serious performance degradation.\n",
      "25/10/17 09:16:11 WARN WindowExec: No Partition Defined for Window operation! Moving all data to a single partition, this can cause serious performance degradation.\n",
      "25/10/17 09:16:11 WARN WindowExec: No Partition Defined for Window operation! Moving all data to a single partition, this can cause serious performance degradation.\n",
      "25/10/17 09:16:11 WARN WindowExec: No Partition Defined for Window operation! Moving all data to a single partition, this can cause serious performance degradation.\n",
      "25/10/17 09:16:11 WARN WindowExec: No Partition Defined for Window operation! Moving all data to a single partition, this can cause serious performance degradation.\n",
      "25/10/17 09:16:11 WARN WindowExec: No Partition Defined for Window operation! Moving all data to a single partition, this can cause serious performance degradation.\n",
      "25/10/17 09:16:11 WARN WindowExec: No Partition Defined for Window operation! Moving all data to a single partition, this can cause serious performance degradation.\n",
      "25/10/17 09:16:11 WARN WindowExec: No Partition Defined for Window operation! Moving all data to a single partition, this can cause serious performance degradation.\n",
      "25/10/17 09:16:11 WARN WindowExec: No Partition Defined for Window operation! Moving all data to a single partition, this can cause serious performance degradation.\n",
      "25/10/17 09:16:11 WARN WindowExec: No Partition Defined for Window operation! Moving all data to a single partition, this can cause serious performance degradation.\n",
      "25/10/17 09:16:11 WARN WindowExec: No Partition Defined for Window operation! Moving all data to a single partition, this can cause serious performance degradation.\n",
      "25/10/17 09:16:11 WARN WindowExec: No Partition Defined for Window operation! Moving all data to a single partition, this can cause serious performance degradation.\n",
      "25/10/17 09:16:11 WARN WindowExec: No Partition Defined for Window operation! Moving all data to a single partition, this can cause serious performance degradation.\n",
      "25/10/17 09:16:11 WARN WindowExec: No Partition Defined for Window operation! Moving all data to a single partition, this can cause serious performance degradation.\n",
      "25/10/17 09:16:11 WARN WindowExec: No Partition Defined for Window operation! Moving all data to a single partition, this can cause serious performance degradation.\n",
      "25/10/17 09:16:11 WARN WindowExec: No Partition Defined for Window operation! Moving all data to a single partition, this can cause serious performance degradation.\n",
      "25/10/17 09:16:11 WARN WindowExec: No Partition Defined for Window operation! Moving all data to a single partition, this can cause serious performance degradation.\n",
      "25/10/17 09:16:11 WARN WindowExec: No Partition Defined for Window operation! Moving all data to a single partition, this can cause serious performance degradation.\n",
      "25/10/17 09:16:11 WARN WindowExec: No Partition Defined for Window operation! Moving all data to a single partition, this can cause serious performance degradation.\n",
      "25/10/17 09:16:11 WARN WindowExec: No Partition Defined for Window operation! Moving all data to a single partition, this can cause serious performance degradation.\n",
      "25/10/17 09:16:11 WARN WindowExec: No Partition Defined for Window operation! Moving all data to a single partition, this can cause serious performance degradation.\n",
      "25/10/17 09:16:11 WARN WindowExec: No Partition Defined for Window operation! Moving all data to a single partition, this can cause serious performance degradation.\n",
      "25/10/17 09:16:11 WARN WindowExec: No Partition Defined for Window operation! Moving all data to a single partition, this can cause serious performance degradation.\n",
      "25/10/17 09:16:11 WARN WindowExec: No Partition Defined for Window operation! Moving all data to a single partition, this can cause serious performance degradation.\n",
      "25/10/17 09:16:11 WARN WindowExec: No Partition Defined for Window operation! Moving all data to a single partition, this can cause serious performance degradation.\n",
      "25/10/17 09:16:11 WARN WindowExec: No Partition Defined for Window operation! Moving all data to a single partition, this can cause serious performance degradation.\n",
      "25/10/17 09:16:11 WARN WindowExec: No Partition Defined for Window operation! Moving all data to a single partition, this can cause serious performance degradation.\n",
      "25/10/17 09:16:11 WARN WindowExec: No Partition Defined for Window operation! Moving all data to a single partition, this can cause serious performance degradation.\n",
      "25/10/17 09:16:11 WARN WindowExec: No Partition Defined for Window operation! Moving all data to a single partition, this can cause serious performance degradation.\n",
      "25/10/17 09:16:11 WARN WindowExec: No Partition Defined for Window operation! Moving all data to a single partition, this can cause serious performance degradation.\n",
      "25/10/17 09:16:11 WARN WindowExec: No Partition Defined for Window operation! Moving all data to a single partition, this can cause serious performance degradation.\n",
      "25/10/17 09:16:11 WARN WindowExec: No Partition Defined for Window operation! Moving all data to a single partition, this can cause serious performance degradation.\n",
      "25/10/17 09:16:11 WARN WindowExec: No Partition Defined for Window operation! Moving all data to a single partition, this can cause serious performance degradation.\n",
      "25/10/17 09:16:11 WARN WindowExec: No Partition Defined for Window operation! Moving all data to a single partition, this can cause serious performance degradation.\n",
      "25/10/17 09:16:11 WARN WindowExec: No Partition Defined for Window operation! Moving all data to a single partition, this can cause serious performance degradation.\n",
      "25/10/17 09:16:11 WARN WindowExec: No Partition Defined for Window operation! Moving all data to a single partition, this can cause serious performance degradation.\n",
      "25/10/17 09:16:11 WARN WindowExec: No Partition Defined for Window operation! Moving all data to a single partition, this can cause serious performance degradation.\n",
      "25/10/17 09:16:11 WARN WindowExec: No Partition Defined for Window operation! Moving all data to a single partition, this can cause serious performance degradation.\n"
     ]
    },
    {
     "name": "stdout",
     "output_type": "stream",
     "text": [
      "+----------+-----+---------+--------+-----------+-------------------+-----------+-------+--------------+--------------+---------------+------------+\n",
      "|CustomerID|Title|FirstName|LastName|CompanyName|       EmailAddress|      Phone|ZipCode|sk_customer_id|effective_date|expiration_date|current_flag|\n",
      "+----------+-----+---------+--------+-----------+-------------------+-----------+-------+--------------+--------------+---------------+------------+\n",
      "|         1|  Mr.|   Manish|  Agrwal|     Amazon|manishk@amazone.com|+9198209371| 411014|             1|    2025-10-17|     9999-12-31|        true|\n",
      "|         3|  Mr.|   Shilpa| Sexsena|    Infosys|  shilpa.k@infy.com|+9198209372| 411016|             3|    2025-10-17|     9999-12-31|        true|\n",
      "|         4|  Mr.|   Rakesh|  Dhaker|        UBS|         rd@ubs.com|+9198209372| 411017|             4|    2025-10-17|     9999-12-31|        true|\n",
      "|         5|  Mr.|    Ayush|  Kapoor|    Nexflix|     ak@netflix.com|+9198209372| 411018|             5|    2025-10-17|     9999-12-31|        true|\n",
      "|         7|  Mr.|    Manoj|    Sain|        HCL|         ms@hcl.com|+9198209372| 411010|             7|    2025-10-17|     9999-12-31|        true|\n",
      "|         8|   Ms|   Nikita|Gangniak|       Sony|        ng@sony.com|+9198209372| 411011|             8|    2025-10-17|     9999-12-31|        true|\n",
      "|         9|  Mr.|  Shubham| Khurana|         LG|          sk@lg.com|+9198209372| 411012|             9|    2025-10-17|     9999-12-31|        true|\n",
      "|        11|  Mr.|    Rahul|    Jain|    Samsung|  rahul@samsung.com|+9198209372| 411013|            11|    2025-10-17|     9999-12-31|        true|\n",
      "|         6|  Mr.|  Pritesh|    Soni|      Wipro|       ps@wipro.com|+9198209372| 411019|             6|    2025-10-17|     2025-10-17|       false|\n",
      "|        10|  Mr.|    Omkar|   Shrma|    Samsung|  omkar@samsung.com|+9198209372| 411013|            10|    2025-10-17|     2025-10-17|       false|\n",
      "|         2|  Mr.|   Vikash|   Kumar|       Citi|    vikash@citi.com|+9198209372| 411015|             2|    2025-10-17|     2025-10-17|       false|\n",
      "|         2|  Mr.|   Vikash|   Kumar|       JPMC|    vikash@jpmc.com|+9198209372| 411018|            12|    2025-10-17|     9999-12-31|        true|\n",
      "+----------+-----+---------+--------+-----------+-------------------+-----------+-------+--------------+--------------+---------------+------------+\n",
      "\n"
     ]
    },
    {
     "name": "stderr",
     "output_type": "stream",
     "text": [
      "                                                                                \r"
     ]
    }
   ],
   "source": [
    "# Create final dataframe to create union table of all tables\n",
    "df_final = df_history_closed\\\n",
    "            .unionByName(df_nochange)\\\n",
    "            .unionByName(df_insert)\\\n",
    "            .unionByName(df_deleted)\\\n",
    "            .unionByName(df_update)\n",
    "\n",
    "df_final.show()"
   ]
  }
 ],
 "metadata": {
  "kernelspec": {
   "display_name": "env_python3_11_13",
   "language": "python",
   "name": "python3"
  },
  "language_info": {
   "codemirror_mode": {
    "name": "ipython",
    "version": 3
   },
   "file_extension": ".py",
   "mimetype": "text/x-python",
   "name": "python",
   "nbconvert_exporter": "python",
   "pygments_lexer": "ipython3",
   "version": "3.11.13"
  }
 },
 "nbformat": 4,
 "nbformat_minor": 5
}

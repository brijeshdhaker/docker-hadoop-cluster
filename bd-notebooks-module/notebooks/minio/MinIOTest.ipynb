{
 "cells": [
  {
   "cell_type": "markdown",
   "id": "91f7660c",
   "metadata": {},
   "source": [
    "#### Install AWS cli"
   ]
  },
  {
   "cell_type": "code",
   "execution_count": null,
   "id": "df1a4475",
   "metadata": {},
   "outputs": [],
   "source": [
    "%%bash\n",
    "\n",
    "sudo snap install aws-cli --classic"
   ]
  },
  {
   "cell_type": "code",
   "execution_count": null,
   "id": "6259000b",
   "metadata": {},
   "outputs": [],
   "source": [
    "%%bash\n",
    "\n",
    "aws configure\n",
    "\n",
    "# AWS Access Key ID [None]: pgm2H2bR7a5kMc5XCYdO\n",
    "# AWS Secret Access Key [None]: zjd8T0hXFGtfemVQ6AH3yBAPASJNXNbVSx5iddqG\n",
    "# Default region name [None]: us-east-1\n",
    "# Default output format [None]: ENTER"
   ]
  },
  {
   "cell_type": "markdown",
   "id": "b6711511",
   "metadata": {},
   "source": [
    "#### Make S3 Bucket"
   ]
  },
  {
   "cell_type": "code",
   "execution_count": null,
   "id": "c6889c2f-31db-4fa2-9076-bce27147060f",
   "metadata": {},
   "outputs": [],
   "source": [
    "%%bash\n",
    "## To make a bucket\n",
    "aws --endpoint-url http://minio.sandbox.net:9010 s3 mb s3://warehouse\n"
   ]
  },
  {
   "cell_type": "markdown",
   "id": "8a70eab9",
   "metadata": {},
   "source": [
    "#### List S3 Buckets"
   ]
  },
  {
   "cell_type": "code",
   "execution_count": 1,
   "id": "3c5a34b5",
   "metadata": {},
   "outputs": [
    {
     "name": "stdout",
     "output_type": "stream",
     "text": [
      "2025-10-14 14:52:29 datasets\n",
      "2025-10-09 19:29:10 defaultfs\n"
     ]
    }
   ],
   "source": [
    "%%bash\n",
    "\n",
    "##\n",
    "aws --endpoint-url http://minio.sandbox.net:9010 s3 ls"
   ]
  },
  {
   "cell_type": "markdown",
   "id": "b24ea268",
   "metadata": {},
   "source": [
    "#### Add an object to S3 Bucket"
   ]
  },
  {
   "cell_type": "code",
   "execution_count": null,
   "id": "159f8a74",
   "metadata": {},
   "outputs": [],
   "source": [
    "%%bash\n",
    "\n",
    "## Add an object to S3 Bucket\n",
    "aws --endpoint-url http://minio.sandbox.net:9010 s3 cp /apps/hostpath/datasets/airlines.csv s3://datasets"
   ]
  },
  {
   "cell_type": "markdown",
   "id": "8c536c37",
   "metadata": {},
   "source": [
    "#### Delete S3 Dir"
   ]
  },
  {
   "cell_type": "code",
   "execution_count": null,
   "id": "9dcf8ee3",
   "metadata": {},
   "outputs": [],
   "source": [
    "%%bash\n",
    "\n",
    "aws --endpoint-url http://minio.sandbox.net:9010 s3 rm s3://defaultfs/deltalake/peoples --recursive\n"
   ]
  },
  {
   "cell_type": "markdown",
   "id": "a6f9d696",
   "metadata": {},
   "source": [
    "#### To list contents inside bucket"
   ]
  },
  {
   "cell_type": "code",
   "execution_count": 4,
   "id": "f6e98a84",
   "metadata": {},
   "outputs": [
    {
     "name": "stdout",
     "output_type": "stream",
     "text": [
      "                           PRE flight-data/\n",
      "                           PRE taxi-data/\n",
      "2025-10-14 14:52:49      75106 peoples.csv\n"
     ]
    }
   ],
   "source": [
    "%%bash\n",
    "\n",
    "aws --endpoint-url http://minio.sandbox.net:9010 s3 ls s3://datasets"
   ]
  },
  {
   "cell_type": "markdown",
   "id": "8d874f65",
   "metadata": {},
   "source": [
    "#### Remove S3 Bucket"
   ]
  },
  {
   "cell_type": "code",
   "execution_count": null,
   "id": "c8467e24",
   "metadata": {},
   "outputs": [],
   "source": [
    "%%bash\n",
    "\n",
    "## To remove a bucket\n",
    "aws --endpoint-url http://minio.sandbox.net:9010 s3 rb s3://warehouse"
   ]
  }
 ],
 "metadata": {
  "kernelspec": {
   "display_name": "env_python3_11_13",
   "language": "python",
   "name": "python3"
  },
  "language_info": {
   "codemirror_mode": {
    "name": "ipython",
    "version": 3
   },
   "file_extension": ".py",
   "mimetype": "text/x-python",
   "name": "python",
   "nbconvert_exporter": "python",
   "pygments_lexer": "ipython3",
   "version": "3.11.13"
  }
 },
 "nbformat": 4,
 "nbformat_minor": 5
}

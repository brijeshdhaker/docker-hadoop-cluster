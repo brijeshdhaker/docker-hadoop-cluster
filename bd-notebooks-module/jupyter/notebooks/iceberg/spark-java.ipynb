{
 "cells": [
  {
   "cell_type": "code",
   "execution_count": 5,
   "id": "c1b1246b-c537-46b9-8a43-4484c83a7c23",
   "metadata": {},
   "outputs": [
    {
     "data": {
      "text/plain": [
       "org.apache.spark.sql.SparkSession@73bb05d9"
      ]
     },
     "execution_count": 5,
     "metadata": {},
     "output_type": "execute_result"
    }
   ],
   "source": [
    "import org.apache.spark.sql.SparkSession;\n",
    "\n",
    "SparkSession spark = SparkSession\n",
    "  .builder()\n",
    "  .master(\"local[*]\")  // // spark://spark-iceberg.sandbox.net:7077\n",
    "  .appName(\"Java Spark SQL basic example\")\n",
    "  .config(\"spark.sql.extensions\", \"org.apache.iceberg.spark.extensions.IcebergSparkSessionExtensions\")\n",
    "  .config(\"spark.eventLog.enabled\", \"true\")\n",
    "  .config(\"spark.eventLog.dir\", \"/home/iceberg/spark-events\")\n",
    "  .config(\"spark.history.fs.logDirectory\", \"/home/iceberg/spark-events\")\n",
    "  .config(\"spark.hadoop.fs.s3a.endpoint\", \"http://minio.sandbox.net:9010\")\n",
    "  .config(\"spark.hadoop.fs.s3a.access.key\", \"pgm2H2bR7a5kMc5XCYdO\")\n",
    "  .config(\"spark.hadoop.fs.s3a.secret.key\", \"zjd8T0hXFGtfemVQ6AH3yBAPASJNXNbVSx5iddqG\")\n",
    "  .config(\"spark.hadoop.fs.s3a.path.style.access\", \"true\")\n",
    "  .config(\"spark.hadoop.fs.s3a.aws.credentials.provider\", \"org.apache.hadoop.fs.s3a.SimpleAWSCredentialsProvider\")\n",
    "  .config(\"spark.hadoop.fs.s3a.impl\", \"org.apache.hadoop.fs.s3a.S3AFileSystem\")\n",
    "  .getOrCreate();\n",
    "\n",
    "spark.sparkContext().setLogLevel(\"ERROR\");\n",
    "spark"
   ]
  },
  {
   "cell_type": "code",
   "execution_count": 6,
   "id": "c549498d-898c-4c38-92a1-a3d6567051c0",
   "metadata": {},
   "outputs": [
    {
     "name": "stdout",
     "output_type": "stream",
     "text": [
      "+---+--------------------+---+----+----+--------------+--------------+---+\n",
      "|_c0|                 _c1|_c2| _c3| _c4|           _c5|           _c6|_c7|\n",
      "+---+--------------------+---+----+----+--------------+--------------+---+\n",
      "| -1|             Unknown| \\N|   -| N/A|            \\N|            \\N|  Y|\n",
      "|  1|      Private flight| \\N|   -| N/A|          NULL|          NULL|  Y|\n",
      "|  2|         135 Airways| \\N|NULL| GNL|       GENERAL| United States|  N|\n",
      "|  3|       1Time Airline| \\N|  1T| RNX|       NEXTIME|  South Africa|  Y|\n",
      "|  4|2 Sqn No 1 Elemen...| \\N|NULL| WYT|          NULL|United Kingdom|  N|\n",
      "|  5|     213 Flight Unit| \\N|NULL| TFU|          NULL|        Russia|  N|\n",
      "|  6|223 Flight Unit S...| \\N|NULL| CHD|CHKALOVSK-AVIA|        Russia|  N|\n",
      "|  7|   224th Flight Unit| \\N|NULL| TTF|    CARGO UNIT|        Russia|  N|\n",
      "|  8|         247 Jet Ltd| \\N|NULL| TWF|  CLOUD RUNNER|United Kingdom|  N|\n",
      "|  9|         3D Aviation| \\N|NULL| SEC|       SECUREX| United States|  N|\n",
      "| 10|         40-Mile Air| \\N|  Q5| MLA|      MILE-AIR| United States|  Y|\n",
      "| 11|              4D Air| \\N|NULL| QRT|       QUARTET|      Thailand|  N|\n",
      "| 12|611897 Alberta Li...| \\N|NULL| THD|         DONUT|        Canada|  N|\n",
      "| 13|    Ansett Australia| \\N|  AN| AAA|        ANSETT|     Australia|  Y|\n",
      "| 14|Abacus International| \\N|  1B|NULL|          NULL|     Singapore|  Y|\n",
      "| 15|     Abelag Aviation| \\N|  W9| AAB|           ABG|       Belgium|  N|\n",
      "| 16|      Army Air Corps| \\N|NULL| AAC|       ARMYAIR|United Kingdom|  N|\n",
      "| 17|Aero Aviation Cen...| \\N|NULL| AAD|       SUNRISE|        Canada|  N|\n",
      "| 18|Aero Servicios Ej...| \\N|NULL| SII|        ASEISA|        Mexico|  N|\n",
      "| 19|         Aero Biniza| \\N|NULL| BZS|        BINIZA|        Mexico|  N|\n",
      "+---+--------------------+---+----+----+--------------+--------------+---+\n",
      "only showing top 20 rows\n",
      "\n"
     ]
    }
   ],
   "source": [
    "import org.apache.spark.sql.Dataset;\n",
    "import org.apache.spark.sql.Row;\n",
    "\n",
    "\n",
    "Dataset<Row> df = spark.read().csv(\"s3a://warehouse-raw/flight-data/airlines.dat\");\n",
    "\n",
    "// Displays the content of the DataFrame to stdout\n",
    "df.show();\n",
    "// +----+-------+\n",
    "// | age|   name|\n",
    "// +----+-------+\n",
    "// |null|Michael|\n",
    "// |  30|   Andy|\n",
    "// |  19| Justin|\n",
    "// +----+-------+"
   ]
  },
  {
   "cell_type": "code",
   "execution_count": null,
   "id": "848bd99a-0b76-4101-91bb-8eca0b46506f",
   "metadata": {},
   "outputs": [],
   "source": []
  }
 ],
 "metadata": {
  "kernelspec": {
   "display_name": "Java",
   "language": "java",
   "name": "java"
  },
  "language_info": {
   "codemirror_mode": "java",
   "file_extension": ".jshell",
   "mimetype": "text/x-java-source",
   "name": "Java",
   "pygments_lexer": "java",
   "version": "11.0.22+7-post-Debian-1deb11u1"
  }
 },
 "nbformat": 4,
 "nbformat_minor": 5
}

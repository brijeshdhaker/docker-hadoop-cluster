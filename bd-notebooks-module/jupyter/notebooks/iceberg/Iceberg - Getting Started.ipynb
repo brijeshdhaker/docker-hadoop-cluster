{
 "cells": [
  {
   "cell_type": "code",
   "execution_count": null,
   "id": "68b7c983-bb1d-4b7a-8160-a1480f99e377",
   "metadata": {},
   "outputs": [],
   "source": [
    "from pyspark import SparkConf\n",
    "from pyspark.sql import SparkSession\n",
    "\n",
    "# adding iceberg configs\n",
    "conf = (\n",
    "    SparkConf()\n",
    "    .set(\"spark.jars.ivy\",\"/home/brijeshdhaker/.ivy2\")\n",
    "    .set(\"spark.jars.packages\",\"org.apache.iceberg:iceberg-spark-runtime-3.4_2.12:1.6.1,org.apache.hadoop:hadoop-aws:3.0.0\")\n",
    "    .set(\"spark.sql.extensions\",\"org.apache.iceberg.spark.extensions.IcebergSparkSessionExtensions\") # Use Iceberg with Spark\n",
    "    .set(\"spark.sql.catalog.spark_catalog\", \"org.apache.iceberg.spark.SparkSessionCatalog\")\n",
    "    .set(\"spark.sql.catalog.spark_catalog.type\", \"hive\") # .set(\"spark.sql.catalogImplementation\", \"in-memory\")\n",
    "    .set(\"spark.sql.catalog.iceberg\", \"org.apache.iceberg.spark.SparkCatalog\")\n",
    "    .set(\"spark.sql.catalog.iceberg.type\", \"hadoop\") # Iceberg catalog type\n",
    "    .set(\"spark.sql.catalog.iceberg.warehouse\", \"s3a://warehouse/tablespace/external/spark\") # Name of the Iceberg catalog\n",
    "    .set(\"spark.sql.defaultCatalog\", \"iceberg\") # Name of the Iceberg catalog\n",
    "    .set(\"spark.executor.heartbeatInterval\", \"300000\")\n",
    "    .set(\"spark.network.timeout\", \"400000\")\n",
    "    .set(\"spark.hadoop.fs.s3a.endpoint\", \"http://minio.sandbox.net:9010\")\n",
    "    .set(\"spark.hadoop.fs.s3a.access.key\", \"pgm2H2bR7a5kMc5XCYdO\")\n",
    "    .set(\"spark.hadoop.fs.s3a.secret.key\", \"zjd8T0hXFGtfemVQ6AH3yBAPASJNXNbVSx5iddqG\")\n",
    "    .set(\"spark.hadoop.fs.s3a.path.style.access\", \"true\")\n",
    "    .set(\"spark.hadoop.fs.s3a.aws.credentials.provider\", \"org.apache.hadoop.fs.s3a.SimpleAWSCredentialsProvider\")\n",
    "    .set(\"spark.hadoop.fs.s3a.impl\", \"org.apache.hadoop.fs.s3a.S3AFileSystem\")\n",
    "    .set(\"spark.eventLog.enabled\", \"true\")\n",
    "    .set(\"spark.eventLog.dir\", \"/apps/var/logs/spark-events\")\n",
    "    .set(\"spark.history.fs.logDirectory\", \"/apps/var/logs/spark-events\")\n",
    ")\n",
    "\n",
    "spark = SparkSession.builder.appName(\"iceberg\").config(conf=conf).getOrCreate()\n",
    "spark.sparkContext.setLogLevel(\"ERROR\")\n",
    "spark"
   ]
  },
  {
   "cell_type": "code",
   "execution_count": null,
   "id": "bfbc9a15-0978-468d-a77d-97230d9b7ea3",
   "metadata": {},
   "outputs": [],
   "source": [
    "df = spark.read.parquet(\"s3a://datasets/taxi-data/yellow_tripdata_2021-04.parquet\")\n",
    "df.show()"
   ]
  },
  {
   "cell_type": "code",
   "execution_count": null,
   "id": "65901ee1",
   "metadata": {},
   "outputs": [],
   "source": [
    "# Default - displays 20 rows and \n",
    "# 20 charactes from column value \n",
    "df.show()"
   ]
  },
  {
   "cell_type": "code",
   "execution_count": null,
   "id": "0215a19d",
   "metadata": {},
   "outputs": [],
   "source": [
    "#Display full column contents\n",
    "df.show(truncate=False)"
   ]
  },
  {
   "cell_type": "code",
   "execution_count": null,
   "id": "7adc681f",
   "metadata": {},
   "outputs": [],
   "source": [
    "# Display 2 rows and full column contents\n",
    "df.show(2,truncate=False) "
   ]
  },
  {
   "cell_type": "code",
   "execution_count": null,
   "id": "f9d5b1a7",
   "metadata": {},
   "outputs": [],
   "source": [
    "# Display 2 rows & column values 25 characters\n",
    "df.show(2,truncate=25) "
   ]
  },
  {
   "cell_type": "code",
   "execution_count": null,
   "id": "32bd4044-70da-4d13-9b63-1ef6e9bdfd22",
   "metadata": {
    "scrolled": true
   },
   "outputs": [],
   "source": [
    "\n",
    "# Display DataFrame rows & columns vertically\n",
    "df.show(n=3,truncate=25,vertical=True)"
   ]
  },
  {
   "cell_type": "code",
   "execution_count": null,
   "id": "f5f192ad-143c-490c-a050-c4ac9f38733f",
   "metadata": {},
   "outputs": [],
   "source": [
    "spark.sql(\"show databases\").show()"
   ]
  },
  {
   "cell_type": "code",
   "execution_count": null,
   "id": "5cccff15-5f73-45d6-8e2e-a9c4bb13272b",
   "metadata": {},
   "outputs": [],
   "source": [
    "spark.sql(\"CREATE DATABASE IF NOT EXISTS nyc\").show(truncate=False)"
   ]
  },
  {
   "cell_type": "code",
   "execution_count": null,
   "id": "83d6abc7-be7f-465a-bde4-57ca3eb75f7d",
   "metadata": {},
   "outputs": [],
   "source": [
    "spark.sql(\"USE nyc\").show(truncate=False)"
   ]
  },
  {
   "cell_type": "code",
   "execution_count": null,
   "id": "86f17222-ed0f-44cc-b8c4-f1fd7adb7f47",
   "metadata": {},
   "outputs": [],
   "source": [
    "spark.sql(\"show tables\").show(truncate=False)"
   ]
  },
  {
   "cell_type": "code",
   "execution_count": null,
   "id": "d95dceca-054c-441d-ba7b-4837af6fdb3a",
   "metadata": {},
   "outputs": [],
   "source": [
    "spark.sql(\"select * from taxis limit 10\").show(truncate=False)"
   ]
  },
  {
   "cell_type": "code",
   "execution_count": null,
   "id": "648ee5cb-599c-4a69-8b52-85b2cf1926fb",
   "metadata": {},
   "outputs": [],
   "source": [
    "## load nyc.taxis from catalog iceberg\n",
    "spark.sql(\"select * from iceberg.nyc.taxis limit 10\").show()"
   ]
  },
  {
   "cell_type": "code",
   "execution_count": null,
   "id": "63f4242c-68ee-4a6d-b390-0237a9d4b19b",
   "metadata": {},
   "outputs": [],
   "source": [
    "spark.sql(\"use iceberg.nyc\")"
   ]
  },
  {
   "cell_type": "code",
   "execution_count": null,
   "id": "365983df",
   "metadata": {},
   "outputs": [],
   "source": [
    "df.write.saveAsTable(\"nyc.taxis\")"
   ]
  },
  {
   "cell_type": "code",
   "execution_count": null,
   "id": "f3bc4981-6432-4f86-83a6-ee34a1103940",
   "metadata": {},
   "outputs": [],
   "source": [
    "spark.sql(\"select * from taxis limit 10\").show()"
   ]
  },
  {
   "cell_type": "code",
   "execution_count": null,
   "id": "b18dc400-a7ae-4f03-b2fd-690e09ed4c55",
   "metadata": {},
   "outputs": [],
   "source": [
    "spark.sql(\"SHOW TBLPROPERTIES nyc.taxis ('current-snapshot-id');\").show(truncate=False)"
   ]
  },
  {
   "cell_type": "code",
   "execution_count": null,
   "id": "d109a1bc-f7f3-42f9-9f37-c473ef408e03",
   "metadata": {},
   "outputs": [],
   "source": [
    "spark.sql(\"DESCRIBE EXTENDED nyc.taxis\").show(truncate=False)\n"
   ]
  },
  {
   "cell_type": "code",
   "execution_count": null,
   "id": "2e21451e-2b07-46f9-95d3-57cda55c4785",
   "metadata": {},
   "outputs": [],
   "source": [
    "spark.sql(\"DESCRIBE FORMATTED nyc.taxis\").show(truncate=False)"
   ]
  },
  {
   "cell_type": "code",
   "execution_count": null,
   "id": "32aeb2b9-ba38-4342-9cc4-076e8038261c",
   "metadata": {},
   "outputs": [],
   "source": [
    "\n",
    "spark.sql(\"select * from taxis limit 10\").show(truncate=False)\n"
   ]
  },
  {
   "cell_type": "code",
   "execution_count": null,
   "id": "ad2ed638-9f47-4070-9a84-0d1833c74a8d",
   "metadata": {},
   "outputs": [],
   "source": []
  }
 ],
 "metadata": {
  "kernelspec": {
   "display_name": "env_python_39",
   "language": "python",
   "name": "python3"
  },
  "language_info": {
   "codemirror_mode": {
    "name": "ipython",
    "version": 3
   },
   "file_extension": ".py",
   "mimetype": "text/x-python",
   "name": "python",
   "nbconvert_exporter": "python",
   "pygments_lexer": "ipython3",
   "version": "3.9.18"
  }
 },
 "nbformat": 4,
 "nbformat_minor": 5
}

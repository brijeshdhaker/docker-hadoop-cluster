{
 "cells": [
  {
   "cell_type": "code",
   "execution_count": 1,
   "id": "68b7c983-bb1d-4b7a-8160-a1480f99e377",
   "metadata": {},
   "outputs": [
    {
     "data": {
      "text/html": [
       "\n",
       "            <div>\n",
       "                <p><b>SparkSession - in-memory</b></p>\n",
       "                \n",
       "        <div>\n",
       "            <p><b>SparkContext</b></p>\n",
       "\n",
       "            <p><a href=\"http://notebook.sandbox.net:4040\">Spark UI</a></p>\n",
       "\n",
       "            <dl>\n",
       "              <dt>Version</dt>\n",
       "                <dd><code>v3.5.2</code></dd>\n",
       "              <dt>Master</dt>\n",
       "                <dd><code>local[*]</code></dd>\n",
       "              <dt>AppName</dt>\n",
       "                <dd><code>iceberg</code></dd>\n",
       "            </dl>\n",
       "        </div>\n",
       "        \n",
       "            </div>\n",
       "        "
      ],
      "text/plain": [
       "<pyspark.sql.session.SparkSession at 0x7956a2167cd0>"
      ]
     },
     "execution_count": 1,
     "metadata": {},
     "output_type": "execute_result"
    }
   ],
   "source": [
    "from pyspark import SparkConf\n",
    "from pyspark.sql import SparkSession\n",
    "\n",
    "# adding iceberg configs\n",
    "conf = (\n",
    "    SparkConf()\n",
    "    .set(\"spark.jars.ivy\",\"/apps/.ivy2\")\n",
    "    .set(\"spark.jars.packages\",\"org.apache.iceberg:iceberg-spark-runtime-3.5_2.12:1.6.1,org.apache.hadoop:hadoop-aws:3.0.0\")\n",
    "    .set(\"spark.sql.extensions\",\"org.apache.iceberg.spark.extensions.IcebergSparkSessionExtensions\") # Use Iceberg with Spark\n",
    "    .set(\"spark.sql.catalog.spark_catalog\", \"org.apache.iceberg.spark.SparkSessionCatalog\")\n",
    "    .set(\"spark.sql.catalog.spark_catalog.type\", \"hive\") # .set(\"spark.sql.catalogImplementation\", \"in-memory\")\n",
    "    .set(\"spark.sql.catalog.iceberg\", \"org.apache.iceberg.spark.SparkCatalog\")\n",
    "    .set(\"spark.sql.catalog.iceberg.type\", \"hadoop\") # Iceberg catalog type\n",
    "    .set(\"spark.sql.catalog.iceberg.warehouse\", \"s3a://warehouse/tablespace/external/spark\") # Name of the Iceberg catalog\n",
    "    .set(\"spark.sql.defaultCatalog\", \"iceberg\") # Name of the Iceberg catalog\n",
    "    .set(\"spark.executor.heartbeatInterval\", \"300000\")\n",
    "    .set(\"spark.network.timeout\", \"400000\")\n",
    "    .set(\"spark.hadoop.fs.s3a.endpoint\", \"http://minio.sandbox.net:9010\")\n",
    "    .set(\"spark.hadoop.fs.s3a.access.key\", \"pgm2H2bR7a5kMc5XCYdO\")\n",
    "    .set(\"spark.hadoop.fs.s3a.secret.key\", \"zjd8T0hXFGtfemVQ6AH3yBAPASJNXNbVSx5iddqG\")\n",
    "    .set(\"spark.hadoop.fs.s3a.path.style.access\", \"true\")\n",
    "    .set(\"spark.hadoop.fs.s3a.aws.credentials.provider\", \"org.apache.hadoop.fs.s3a.SimpleAWSCredentialsProvider\")\n",
    "    .set(\"spark.hadoop.fs.s3a.impl\", \"org.apache.hadoop.fs.s3a.S3AFileSystem\")\n",
    ")\n",
    "\n",
    "spark = SparkSession.builder.appName(\"iceberg\").config(conf=conf).getOrCreate()\n",
    "spark.sparkContext.setLogLevel(\"ERROR\")\n",
    "spark"
   ]
  },
  {
   "cell_type": "code",
   "execution_count": 2,
   "id": "bfbc9a15-0978-468d-a77d-97230d9b7ea3",
   "metadata": {},
   "outputs": [],
   "source": [
    "df = spark.read.parquet(\"s3a://warehouse/taxi-data/yellow_tripdata_2021-04.parquet\")\n",
    "df.show()"
   ]
  },
  {
   "cell_type": "code",
   "execution_count": 3,
   "id": "32bd4044-70da-4d13-9b63-1ef6e9bdfd22",
   "metadata": {
    "scrolled": true
   },
   "outputs": [
    {
     "name": "stdout",
     "output_type": "stream",
     "text": [
      "+--------+--------------------+---------------------+---------------+-------------+----------+------------------+------------+------------+------------+-----------+-----+-------+----------+------------+---------------------+------------+--------------------+-----------+\n",
      "|VendorID|tpep_pickup_datetime|tpep_dropoff_datetime|passenger_count|trip_distance|RatecodeID|store_and_fwd_flag|PULocationID|DOLocationID|payment_type|fare_amount|extra|mta_tax|tip_amount|tolls_amount|improvement_surcharge|total_amount|congestion_surcharge|airport_fee|\n",
      "+--------+--------------------+---------------------+---------------+-------------+----------+------------------+------------+------------+------------+-----------+-----+-------+----------+------------+---------------------+------------+--------------------+-----------+\n",
      "|       1| 2021-04-01 00:00:18|  2021-04-01 00:21:54|            1.0|          8.4|       1.0|                 N|          79|         116|           1|       25.5|  3.0|    0.5|      5.85|         0.0|                  0.3|       35.15|                 2.5|        0.0|\n",
      "|       1| 2021-04-01 00:42:37|  2021-04-01 00:46:23|            1.0|          0.9|       1.0|                 N|          75|         236|           2|        5.0|  3.0|    0.5|       0.0|         0.0|                  0.3|         8.8|                 2.5|        0.0|\n",
      "|       1| 2021-04-01 00:57:56|  2021-04-01 01:08:22|            1.0|          3.4|       1.0|                 N|         236|         168|           2|       11.5|  3.0|    0.5|       0.0|         0.0|                  0.3|        15.3|                 2.5|        0.0|\n",
      "|       1| 2021-04-01 00:01:58|  2021-04-01 00:54:27|            1.0|          0.0|       1.0|                 N|          47|          61|           1|       44.2|  0.0|    0.5|       0.0|         0.0|                  0.3|        45.0|                 0.0|        0.0|\n",
      "|       2| 2021-04-01 00:24:55|  2021-04-01 00:34:33|            1.0|         1.96|       1.0|                 N|         238|         152|           1|        9.0|  0.5|    0.5|      3.09|         0.0|                  0.3|       13.39|                 0.0|        0.0|\n",
      "|       2| 2021-04-01 00:19:16|  2021-04-01 00:21:46|            1.0|         0.77|       1.0|                 N|         142|         238|           1|        4.5|  0.5|    0.5|      1.24|         0.0|                  0.3|        9.54|                 2.5|        0.0|\n",
      "|       2| 2021-04-01 00:25:11|  2021-04-01 00:31:53|            1.0|         3.65|       1.0|                 N|         238|         244|           1|       11.5|  0.5|    0.5|      2.56|         0.0|                  0.3|       15.36|                 0.0|        0.0|\n",
      "|       1| 2021-04-01 00:27:53|  2021-04-01 00:47:03|            0.0|          8.9|       1.0|                 N|         138|         239|           1|       26.5|  3.0|    0.5|      7.25|        6.12|                  0.3|       43.67|                 2.5|        0.0|\n",
      "|       2| 2021-04-01 00:24:24|  2021-04-01 00:37:50|            1.0|         2.98|       1.0|                 N|         151|         244|           2|       12.0|  0.5|    0.5|       0.0|         0.0|                  0.3|        13.3|                 0.0|        0.0|\n",
      "|       1| 2021-04-01 00:19:18|  2021-04-01 00:41:25|            1.0|          8.9|       1.0|                 N|         132|         196|           2|       28.0|  0.5|    0.5|       0.0|         0.0|                  0.3|        29.3|                 0.0|        0.0|\n",
      "|       2| 2021-04-01 00:04:25|  2021-04-01 00:29:22|            1.0|         7.48|       1.0|                 N|         140|          36|           1|       23.5|  0.5|    0.5|       4.0|         0.0|                  0.3|        31.3|                 2.5|        0.0|\n",
      "|       2| 2021-04-01 00:03:07|  2021-04-01 00:18:02|            5.0|         3.39|       1.0|                 N|         231|          48|           2|       13.5|  0.5|    0.5|       0.0|         0.0|                  0.3|        17.3|                 2.5|        0.0|\n",
      "|       2| 2021-04-01 00:35:44|  2021-04-01 00:51:06|            5.0|         3.51|       1.0|                 N|          48|          41|           1|       14.0|  0.5|    0.5|       0.0|         0.0|                  0.3|        17.8|                 2.5|        0.0|\n",
      "|       2| 2021-04-01 00:52:32|  2021-04-01 01:04:41|            5.0|         3.42|       1.0|                 N|          41|         120|           1|       12.5|  0.5|    0.5|      2.76|         0.0|                  0.3|       16.56|                 0.0|        0.0|\n",
      "|       2| 2021-04-01 00:28:05|  2021-04-01 00:47:59|            3.0|        12.14|       1.0|                 N|         132|         160|           1|       33.5|  0.5|    0.5|     10.44|         0.0|                  0.3|       45.24|                 0.0|        0.0|\n",
      "|       1| 2021-04-01 00:39:01|  2021-04-01 00:57:39|            1.0|         11.8|       1.0|                 N|         132|         196|           2|       32.0|  0.5|    0.5|       0.0|         0.0|                  0.3|        33.3|                 0.0|        0.0|\n",
      "|       2| 2021-04-01 00:15:10|  2021-04-01 00:22:46|            1.0|         1.44|       1.0|                 N|         152|         244|           1|        7.5|  0.5|    0.5|       0.0|         0.0|                  0.3|         8.8|                 0.0|        0.0|\n",
      "|       2| 2021-04-01 00:30:46|  2021-04-01 00:39:52|            1.0|         1.65|       1.0|                 N|         161|         143|           1|        8.5|  0.5|    0.5|      3.08|         0.0|                  0.3|       15.38|                 2.5|        0.0|\n",
      "|       2| 2021-04-01 00:48:18|  2021-04-01 01:06:50|            2.0|         8.16|       1.0|                 N|         107|         106|           1|       25.0|  0.5|    0.5|      5.76|         0.0|                  0.3|       34.56|                 2.5|        0.0|\n",
      "|       1| 2021-04-01 00:19:42|  2021-04-01 00:33:25|            1.0|          7.4|       1.0|                 N|         138|          41|           1|       21.5|  0.5|    0.5|       6.0|        6.12|                  0.3|       34.92|                 0.0|        0.0|\n",
      "+--------+--------------------+---------------------+---------------+-------------+----------+------------------+------------+------------+------------+-----------+-----+-------+----------+------------+---------------------+------------+--------------------+-----------+\n",
      "only showing top 20 rows\n",
      "\n"
     ]
    }
   ],
   "source": [
    "# Default - displays 20 rows and \n",
    "# 20 charactes from column value \n",
    "df.show()\n",
    "\n",
    "#Display full column contents\n",
    "df.show(truncate=False)\n",
    "\n",
    "# Display 2 rows and full column contents\n",
    "df.show(2,truncate=False) \n",
    "\n",
    "# Display 2 rows & column values 25 characters\n",
    "df.show(2,truncate=25) \n",
    "\n",
    "# Display DataFrame rows & columns vertically\n",
    "df.show(n=3,truncate=25,vertical=True)"
   ]
  },
  {
   "cell_type": "code",
   "execution_count": 6,
   "id": "f5f192ad-143c-490c-a050-c4ac9f38733f",
   "metadata": {},
   "outputs": [
    {
     "name": "stdout",
     "output_type": "stream",
     "text": [
      "+---------+\n",
      "|namespace|\n",
      "+---------+\n",
      "|      nyc|\n",
      "+---------+\n",
      "\n"
     ]
    }
   ],
   "source": [
    "spark.sql(\"show databases\").show()"
   ]
  },
  {
   "cell_type": "code",
   "execution_count": 23,
   "id": "5cccff15-5f73-45d6-8e2e-a9c4bb13272b",
   "metadata": {},
   "outputs": [
    {
     "name": "stdout",
     "output_type": "stream",
     "text": [
      "++\n",
      "||\n",
      "++\n",
      "++\n",
      "\n"
     ]
    }
   ],
   "source": [
    "spark.sql(\"CREATE DATABASE IF NOT EXISTS nyc\").show(truncate=False)"
   ]
  },
  {
   "cell_type": "code",
   "execution_count": 24,
   "id": "83d6abc7-be7f-465a-bde4-57ca3eb75f7d",
   "metadata": {},
   "outputs": [
    {
     "name": "stdout",
     "output_type": "stream",
     "text": [
      "++\n",
      "||\n",
      "++\n",
      "++\n",
      "\n"
     ]
    }
   ],
   "source": [
    "spark.sql(\"USE nyc\").show(truncate=False)"
   ]
  },
  {
   "cell_type": "code",
   "execution_count": 25,
   "id": "86f17222-ed0f-44cc-b8c4-f1fd7adb7f47",
   "metadata": {},
   "outputs": [
    {
     "name": "stdout",
     "output_type": "stream",
     "text": [
      "+---------+---------+-----------+\n",
      "|namespace|tableName|isTemporary|\n",
      "+---------+---------+-----------+\n",
      "|nyc      |taxis    |false      |\n",
      "+---------+---------+-----------+\n",
      "\n"
     ]
    }
   ],
   "source": [
    "spark.sql(\"show tables\").show(truncate=False)"
   ]
  },
  {
   "cell_type": "code",
   "execution_count": 26,
   "id": "d95dceca-054c-441d-ba7b-4837af6fdb3a",
   "metadata": {},
   "outputs": [
    {
     "name": "stdout",
     "output_type": "stream",
     "text": [
      "+--------+--------------------+---------------------+---------------+-------------+----------+------------------+------------+------------+------------+-----------+-----+-------+----------+------------+---------------------+------------+--------------------+-----------+\n",
      "|VendorID|tpep_pickup_datetime|tpep_dropoff_datetime|passenger_count|trip_distance|RatecodeID|store_and_fwd_flag|PULocationID|DOLocationID|payment_type|fare_amount|extra|mta_tax|tip_amount|tolls_amount|improvement_surcharge|total_amount|congestion_surcharge|airport_fee|\n",
      "+--------+--------------------+---------------------+---------------+-------------+----------+------------------+------------+------------+------------+-----------+-----+-------+----------+------------+---------------------+------------+--------------------+-----------+\n",
      "|1       |2021-04-01 00:00:18 |2021-04-01 00:21:54  |1.0            |8.4          |1.0       |N                 |79          |116         |1           |25.5       |3.0  |0.5    |5.85      |0.0         |0.3                  |35.15       |2.5                 |0.0        |\n",
      "|1       |2021-04-01 00:42:37 |2021-04-01 00:46:23  |1.0            |0.9          |1.0       |N                 |75          |236         |2           |5.0        |3.0  |0.5    |0.0       |0.0         |0.3                  |8.8         |2.5                 |0.0        |\n",
      "|1       |2021-04-01 00:57:56 |2021-04-01 01:08:22  |1.0            |3.4          |1.0       |N                 |236         |168         |2           |11.5       |3.0  |0.5    |0.0       |0.0         |0.3                  |15.3        |2.5                 |0.0        |\n",
      "|1       |2021-04-01 00:01:58 |2021-04-01 00:54:27  |1.0            |0.0          |1.0       |N                 |47          |61          |1           |44.2       |0.0  |0.5    |0.0       |0.0         |0.3                  |45.0        |0.0                 |0.0        |\n",
      "|2       |2021-04-01 00:24:55 |2021-04-01 00:34:33  |1.0            |1.96         |1.0       |N                 |238         |152         |1           |9.0        |0.5  |0.5    |3.09      |0.0         |0.3                  |13.39       |0.0                 |0.0        |\n",
      "|2       |2021-04-01 00:19:16 |2021-04-01 00:21:46  |1.0            |0.77         |1.0       |N                 |142         |238         |1           |4.5        |0.5  |0.5    |1.24      |0.0         |0.3                  |9.54        |2.5                 |0.0        |\n",
      "|2       |2021-04-01 00:25:11 |2021-04-01 00:31:53  |1.0            |3.65         |1.0       |N                 |238         |244         |1           |11.5       |0.5  |0.5    |2.56      |0.0         |0.3                  |15.36       |0.0                 |0.0        |\n",
      "|1       |2021-04-01 00:27:53 |2021-04-01 00:47:03  |0.0            |8.9          |1.0       |N                 |138         |239         |1           |26.5       |3.0  |0.5    |7.25      |6.12        |0.3                  |43.67       |2.5                 |0.0        |\n",
      "|2       |2021-04-01 00:24:24 |2021-04-01 00:37:50  |1.0            |2.98         |1.0       |N                 |151         |244         |2           |12.0       |0.5  |0.5    |0.0       |0.0         |0.3                  |13.3        |0.0                 |0.0        |\n",
      "|1       |2021-04-01 00:19:18 |2021-04-01 00:41:25  |1.0            |8.9          |1.0       |N                 |132         |196         |2           |28.0       |0.5  |0.5    |0.0       |0.0         |0.3                  |29.3        |0.0                 |0.0        |\n",
      "+--------+--------------------+---------------------+---------------+-------------+----------+------------------+------------+------------+------------+-----------+-----+-------+----------+------------+---------------------+------------+--------------------+-----------+\n",
      "\n"
     ]
    }
   ],
   "source": [
    "spark.sql(\"select * from taxis limit 10\").show(truncate=False)"
   ]
  },
  {
   "cell_type": "code",
   "execution_count": 13,
   "id": "648ee5cb-599c-4a69-8b52-85b2cf1926fb",
   "metadata": {},
   "outputs": [
    {
     "name": "stdout",
     "output_type": "stream",
     "text": [
      "+--------+--------------------+---------------------+---------------+-------------+----------+------------------+------------+------------+------------+-----------+-----+-------+----------+------------+---------------------+------------+--------------------+-----------+\n",
      "|VendorID|tpep_pickup_datetime|tpep_dropoff_datetime|passenger_count|trip_distance|RatecodeID|store_and_fwd_flag|PULocationID|DOLocationID|payment_type|fare_amount|extra|mta_tax|tip_amount|tolls_amount|improvement_surcharge|total_amount|congestion_surcharge|airport_fee|\n",
      "+--------+--------------------+---------------------+---------------+-------------+----------+------------------+------------+------------+------------+-----------+-----+-------+----------+------------+---------------------+------------+--------------------+-----------+\n",
      "|       1| 2021-04-01 00:00:18|  2021-04-01 00:21:54|            1.0|          8.4|       1.0|                 N|          79|         116|           1|       25.5|  3.0|    0.5|      5.85|         0.0|                  0.3|       35.15|                 2.5|        0.0|\n",
      "|       1| 2021-04-01 00:42:37|  2021-04-01 00:46:23|            1.0|          0.9|       1.0|                 N|          75|         236|           2|        5.0|  3.0|    0.5|       0.0|         0.0|                  0.3|         8.8|                 2.5|        0.0|\n",
      "|       1| 2021-04-01 00:57:56|  2021-04-01 01:08:22|            1.0|          3.4|       1.0|                 N|         236|         168|           2|       11.5|  3.0|    0.5|       0.0|         0.0|                  0.3|        15.3|                 2.5|        0.0|\n",
      "|       1| 2021-04-01 00:01:58|  2021-04-01 00:54:27|            1.0|          0.0|       1.0|                 N|          47|          61|           1|       44.2|  0.0|    0.5|       0.0|         0.0|                  0.3|        45.0|                 0.0|        0.0|\n",
      "|       2| 2021-04-01 00:24:55|  2021-04-01 00:34:33|            1.0|         1.96|       1.0|                 N|         238|         152|           1|        9.0|  0.5|    0.5|      3.09|         0.0|                  0.3|       13.39|                 0.0|        0.0|\n",
      "|       2| 2021-04-01 00:19:16|  2021-04-01 00:21:46|            1.0|         0.77|       1.0|                 N|         142|         238|           1|        4.5|  0.5|    0.5|      1.24|         0.0|                  0.3|        9.54|                 2.5|        0.0|\n",
      "|       2| 2021-04-01 00:25:11|  2021-04-01 00:31:53|            1.0|         3.65|       1.0|                 N|         238|         244|           1|       11.5|  0.5|    0.5|      2.56|         0.0|                  0.3|       15.36|                 0.0|        0.0|\n",
      "|       1| 2021-04-01 00:27:53|  2021-04-01 00:47:03|            0.0|          8.9|       1.0|                 N|         138|         239|           1|       26.5|  3.0|    0.5|      7.25|        6.12|                  0.3|       43.67|                 2.5|        0.0|\n",
      "|       2| 2021-04-01 00:24:24|  2021-04-01 00:37:50|            1.0|         2.98|       1.0|                 N|         151|         244|           2|       12.0|  0.5|    0.5|       0.0|         0.0|                  0.3|        13.3|                 0.0|        0.0|\n",
      "|       1| 2021-04-01 00:19:18|  2021-04-01 00:41:25|            1.0|          8.9|       1.0|                 N|         132|         196|           2|       28.0|  0.5|    0.5|       0.0|         0.0|                  0.3|        29.3|                 0.0|        0.0|\n",
      "+--------+--------------------+---------------------+---------------+-------------+----------+------------------+------------+------------+------------+-----------+-----+-------+----------+------------+---------------------+------------+--------------------+-----------+\n",
      "\n"
     ]
    }
   ],
   "source": [
    "## load nyc.taxis from catalog iceberg\n",
    "spark.sql(\"select * from iceberg.nyc.taxis limit 10\").show()"
   ]
  },
  {
   "cell_type": "code",
   "execution_count": 14,
   "id": "63f4242c-68ee-4a6d-b390-0237a9d4b19b",
   "metadata": {},
   "outputs": [
    {
     "data": {
      "text/plain": [
       "DataFrame[]"
      ]
     },
     "execution_count": 14,
     "metadata": {},
     "output_type": "execute_result"
    }
   ],
   "source": [
    "spark.sql(\"use iceberg.nyc\")"
   ]
  },
  {
   "cell_type": "code",
   "execution_count": 15,
   "id": "f3bc4981-6432-4f86-83a6-ee34a1103940",
   "metadata": {},
   "outputs": [
    {
     "name": "stdout",
     "output_type": "stream",
     "text": [
      "+--------+--------------------+---------------------+---------------+-------------+----------+------------------+------------+------------+------------+-----------+-----+-------+----------+------------+---------------------+------------+--------------------+-----------+\n",
      "|VendorID|tpep_pickup_datetime|tpep_dropoff_datetime|passenger_count|trip_distance|RatecodeID|store_and_fwd_flag|PULocationID|DOLocationID|payment_type|fare_amount|extra|mta_tax|tip_amount|tolls_amount|improvement_surcharge|total_amount|congestion_surcharge|airport_fee|\n",
      "+--------+--------------------+---------------------+---------------+-------------+----------+------------------+------------+------------+------------+-----------+-----+-------+----------+------------+---------------------+------------+--------------------+-----------+\n",
      "|       1| 2021-04-01 00:00:18|  2021-04-01 00:21:54|            1.0|          8.4|       1.0|                 N|          79|         116|           1|       25.5|  3.0|    0.5|      5.85|         0.0|                  0.3|       35.15|                 2.5|        0.0|\n",
      "|       1| 2021-04-01 00:42:37|  2021-04-01 00:46:23|            1.0|          0.9|       1.0|                 N|          75|         236|           2|        5.0|  3.0|    0.5|       0.0|         0.0|                  0.3|         8.8|                 2.5|        0.0|\n",
      "|       1| 2021-04-01 00:57:56|  2021-04-01 01:08:22|            1.0|          3.4|       1.0|                 N|         236|         168|           2|       11.5|  3.0|    0.5|       0.0|         0.0|                  0.3|        15.3|                 2.5|        0.0|\n",
      "|       1| 2021-04-01 00:01:58|  2021-04-01 00:54:27|            1.0|          0.0|       1.0|                 N|          47|          61|           1|       44.2|  0.0|    0.5|       0.0|         0.0|                  0.3|        45.0|                 0.0|        0.0|\n",
      "|       2| 2021-04-01 00:24:55|  2021-04-01 00:34:33|            1.0|         1.96|       1.0|                 N|         238|         152|           1|        9.0|  0.5|    0.5|      3.09|         0.0|                  0.3|       13.39|                 0.0|        0.0|\n",
      "|       2| 2021-04-01 00:19:16|  2021-04-01 00:21:46|            1.0|         0.77|       1.0|                 N|         142|         238|           1|        4.5|  0.5|    0.5|      1.24|         0.0|                  0.3|        9.54|                 2.5|        0.0|\n",
      "|       2| 2021-04-01 00:25:11|  2021-04-01 00:31:53|            1.0|         3.65|       1.0|                 N|         238|         244|           1|       11.5|  0.5|    0.5|      2.56|         0.0|                  0.3|       15.36|                 0.0|        0.0|\n",
      "|       1| 2021-04-01 00:27:53|  2021-04-01 00:47:03|            0.0|          8.9|       1.0|                 N|         138|         239|           1|       26.5|  3.0|    0.5|      7.25|        6.12|                  0.3|       43.67|                 2.5|        0.0|\n",
      "|       2| 2021-04-01 00:24:24|  2021-04-01 00:37:50|            1.0|         2.98|       1.0|                 N|         151|         244|           2|       12.0|  0.5|    0.5|       0.0|         0.0|                  0.3|        13.3|                 0.0|        0.0|\n",
      "|       1| 2021-04-01 00:19:18|  2021-04-01 00:41:25|            1.0|          8.9|       1.0|                 N|         132|         196|           2|       28.0|  0.5|    0.5|       0.0|         0.0|                  0.3|        29.3|                 0.0|        0.0|\n",
      "+--------+--------------------+---------------------+---------------+-------------+----------+------------------+------------+------------+------------+-----------+-----+-------+----------+------------+---------------------+------------+--------------------+-----------+\n",
      "\n"
     ]
    }
   ],
   "source": [
    "spark.sql(\"select * from taxis limit 10\").show()"
   ]
  },
  {
   "cell_type": "code",
   "execution_count": 17,
   "id": "b18dc400-a7ae-4f03-b2fd-690e09ed4c55",
   "metadata": {},
   "outputs": [
    {
     "name": "stdout",
     "output_type": "stream",
     "text": [
      "+-------------------+-------------------+\n",
      "|                key|              value|\n",
      "+-------------------+-------------------+\n",
      "|current-snapshot-id|6144676154389073102|\n",
      "+-------------------+-------------------+\n",
      "\n"
     ]
    }
   ],
   "source": [
    "spark.sql(\"SHOW TBLPROPERTIES nyc.taxis ('current-snapshot-id');\").show(truncate=False)"
   ]
  },
  {
   "cell_type": "code",
   "execution_count": 18,
   "id": "d109a1bc-f7f3-42f9-9f37-c473ef408e03",
   "metadata": {},
   "outputs": [
    {
     "name": "stdout",
     "output_type": "stream",
     "text": [
      "+--------------------+-------------+-------+\n",
      "|            col_name|    data_type|comment|\n",
      "+--------------------+-------------+-------+\n",
      "|            VendorID|       bigint|   NULL|\n",
      "|tpep_pickup_datetime|timestamp_ntz|   NULL|\n",
      "|tpep_dropoff_date...|timestamp_ntz|   NULL|\n",
      "|     passenger_count|       double|   NULL|\n",
      "|       trip_distance|       double|   NULL|\n",
      "|          RatecodeID|       double|   NULL|\n",
      "|  store_and_fwd_flag|       string|   NULL|\n",
      "|        PULocationID|       bigint|   NULL|\n",
      "|        DOLocationID|       bigint|   NULL|\n",
      "|        payment_type|       bigint|   NULL|\n",
      "|         fare_amount|       double|   NULL|\n",
      "|               extra|       double|   NULL|\n",
      "|             mta_tax|       double|   NULL|\n",
      "|          tip_amount|       double|   NULL|\n",
      "|        tolls_amount|       double|   NULL|\n",
      "|improvement_surch...|       double|   NULL|\n",
      "|        total_amount|       double|   NULL|\n",
      "|congestion_surcharge|       double|   NULL|\n",
      "|         airport_fee|       double|   NULL|\n",
      "|                    |             |       |\n",
      "+--------------------+-------------+-------+\n",
      "only showing top 20 rows\n",
      "\n"
     ]
    }
   ],
   "source": [
    "spark.sql(\"DESCRIBE EXTENDED nyc.taxis\").show(truncate=False)\n"
   ]
  },
  {
   "cell_type": "code",
   "execution_count": 21,
   "id": "2e21451e-2b07-46f9-95d3-57cda55c4785",
   "metadata": {},
   "outputs": [
    {
     "name": "stdout",
     "output_type": "stream",
     "text": [
      "+---------------------+-------------+-------+\n",
      "|col_name             |data_type    |comment|\n",
      "+---------------------+-------------+-------+\n",
      "|VendorID             |bigint       |NULL   |\n",
      "|tpep_pickup_datetime |timestamp_ntz|NULL   |\n",
      "|tpep_dropoff_datetime|timestamp_ntz|NULL   |\n",
      "|passenger_count      |double       |NULL   |\n",
      "|trip_distance        |double       |NULL   |\n",
      "|RatecodeID           |double       |NULL   |\n",
      "|store_and_fwd_flag   |string       |NULL   |\n",
      "|PULocationID         |bigint       |NULL   |\n",
      "|DOLocationID         |bigint       |NULL   |\n",
      "|payment_type         |bigint       |NULL   |\n",
      "|fare_amount          |double       |NULL   |\n",
      "|extra                |double       |NULL   |\n",
      "|mta_tax              |double       |NULL   |\n",
      "|tip_amount           |double       |NULL   |\n",
      "|tolls_amount         |double       |NULL   |\n",
      "|improvement_surcharge|double       |NULL   |\n",
      "|total_amount         |double       |NULL   |\n",
      "|congestion_surcharge |double       |NULL   |\n",
      "|airport_fee          |double       |NULL   |\n",
      "|                     |             |       |\n",
      "+---------------------+-------------+-------+\n",
      "only showing top 20 rows\n",
      "\n"
     ]
    }
   ],
   "source": [
    "spark.sql(\"DESCRIBE FORMATTED nyc.taxis\").show(truncate=False)"
   ]
  },
  {
   "cell_type": "code",
   "execution_count": 27,
   "id": "32aeb2b9-ba38-4342-9cc4-076e8038261c",
   "metadata": {},
   "outputs": [
    {
     "name": "stderr",
     "output_type": "stream",
     "text": [
      "UsageError: Cell magic `%%sql` not found.\n"
     ]
    }
   ],
   "source": [
    "%%sql\n",
    "\n",
    "select * from taxis limit 10\n"
   ]
  },
  {
   "cell_type": "code",
   "execution_count": null,
   "id": "ad2ed638-9f47-4070-9a84-0d1833c74a8d",
   "metadata": {},
   "outputs": [],
   "source": []
  }
 ],
 "metadata": {
  "kernelspec": {
   "display_name": "Python 3 (ipykernel)",
   "language": "python",
   "name": "python3"
  },
  "language_info": {
   "codemirror_mode": {
    "name": "ipython",
    "version": 3
   },
   "file_extension": ".py",
   "mimetype": "text/x-python",
   "name": "python",
   "nbconvert_exporter": "python",
   "pygments_lexer": "ipython3",
   "version": "3.9.18"
  }
 },
 "nbformat": 4,
 "nbformat_minor": 5
}

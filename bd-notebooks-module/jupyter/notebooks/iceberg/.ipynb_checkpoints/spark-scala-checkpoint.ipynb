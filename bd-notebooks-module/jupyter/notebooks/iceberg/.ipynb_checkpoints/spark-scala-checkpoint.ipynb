{
 "cells": [
  {
   "cell_type": "code",
   "execution_count": 1,
   "id": "71beecda-7c8b-419c-a3fb-98d96f550e98",
   "metadata": {},
   "outputs": [
    {
     "data": {
      "text/plain": [
       "Intitializing Scala interpreter ..."
      ]
     },
     "metadata": {},
     "output_type": "display_data"
    },
    {
     "data": {
      "text/plain": [
       "Spark Web UI available at http://spark-iceberg.sandbox.net:4040\n",
       "SparkContext available as 'sc' (version = 3.5.1, master = spark://spark-iceberg.sandbox.net:7077, app id = app-20240905063415-0000)\n",
       "SparkSession available as 'spark'\n"
      ]
     },
     "metadata": {},
     "output_type": "display_data"
    },
    {
     "data": {
      "text/plain": [
       "import org.apache.spark.sql.SparkSession\n",
       "spark: org.apache.spark.sql.SparkSession = org.apache.spark.sql.SparkSession@78d15d05\n",
       "res0: org.apache.spark.sql.SparkSession = org.apache.spark.sql.SparkSession@78d15d05\n"
      ]
     },
     "execution_count": 1,
     "metadata": {},
     "output_type": "execute_result"
    }
   ],
   "source": [
    "import org.apache.spark.sql.SparkSession\n",
    "\n",
    "val spark = SparkSession\n",
    "  .builder()\n",
    "  .appName(\"Spark SQL basic example\")\n",
    "  .master(\"local[*]\")  // // spark://spark-iceberg.sandbox.net:7077\n",
    "  .appName(\"Java Spark SQL basic example\")\n",
    "  .config(\"spark.sql.extensions\", \"org.apache.iceberg.spark.extensions.IcebergSparkSessionExtensions\")\n",
    "  .config(\"spark.eventLog.enabled\", \"true\")\n",
    "  .config(\"spark.eventLog.dir\", \"/home/iceberg/spark-events\")\n",
    "  .config(\"spark.history.fs.logDirectory\", \"/home/iceberg/spark-events\")\n",
    "  .config(\"spark.hadoop.fs.s3a.endpoint\", \"http://minio.sandbox.net:9010\")\n",
    "  .config(\"spark.hadoop.fs.s3a.access.key\", \"pgm2H2bR7a5kMc5XCYdO\")\n",
    "  .config(\"spark.hadoop.fs.s3a.secret.key\", \"zjd8T0hXFGtfemVQ6AH3yBAPASJNXNbVSx5iddqG\")\n",
    "  .config(\"spark.hadoop.fs.s3a.path.style.access\", \"true\")\n",
    "  .config(\"spark.hadoop.fs.s3a.aws.credentials.provider\", \"org.apache.hadoop.fs.s3a.SimpleAWSCredentialsProvider\")\n",
    "  .config(\"spark.hadoop.fs.s3a.impl\", \"org.apache.hadoop.fs.s3a.S3AFileSystem\")\n",
    "  .getOrCreate()\n",
    "\n",
    "spark.sparkContext.setLogLevel(\"ERROR\");\n",
    "spark\n"
   ]
  },
  {
   "cell_type": "code",
   "execution_count": 2,
   "id": "47d5eee8-87eb-48cb-b7e1-568b3b19c020",
   "metadata": {},
   "outputs": [
    {
     "name": "stdout",
     "output_type": "stream",
     "text": [
      "+---+--------------------+---+----+----+---------------+--------------+---+\n",
      "| -1|             Unknown|\\N2|   -| N/A|            \\N5|           \\N6|  Y|\n",
      "+---+--------------------+---+----+----+---------------+--------------+---+\n",
      "|  1|      Private flight| \\N|   -| N/A|           NULL|          NULL|  Y|\n",
      "|  2|         135 Airways| \\N|NULL| GNL|        GENERAL| United States|  N|\n",
      "|  3|       1Time Airline| \\N|  1T| RNX|        NEXTIME|  South Africa|  Y|\n",
      "|  4|2 Sqn No 1 Elemen...| \\N|NULL| WYT|           NULL|United Kingdom|  N|\n",
      "|  5|     213 Flight Unit| \\N|NULL| TFU|           NULL|        Russia|  N|\n",
      "|  6|223 Flight Unit S...| \\N|NULL| CHD| CHKALOVSK-AVIA|        Russia|  N|\n",
      "|  7|   224th Flight Unit| \\N|NULL| TTF|     CARGO UNIT|        Russia|  N|\n",
      "|  8|         247 Jet Ltd| \\N|NULL| TWF|   CLOUD RUNNER|United Kingdom|  N|\n",
      "|  9|         3D Aviation| \\N|NULL| SEC|        SECUREX| United States|  N|\n",
      "| 10|         40-Mile Air| \\N|  Q5| MLA|       MILE-AIR| United States|  Y|\n",
      "| 11|              4D Air| \\N|NULL| QRT|        QUARTET|      Thailand|  N|\n",
      "| 12|611897 Alberta Li...| \\N|NULL| THD|          DONUT|        Canada|  N|\n",
      "| 13|    Ansett Australia| \\N|  AN| AAA|         ANSETT|     Australia|  Y|\n",
      "| 14|Abacus International| \\N|  1B|NULL|           NULL|     Singapore|  Y|\n",
      "| 15|     Abelag Aviation| \\N|  W9| AAB|            ABG|       Belgium|  N|\n",
      "| 16|      Army Air Corps| \\N|NULL| AAC|        ARMYAIR|United Kingdom|  N|\n",
      "| 17|Aero Aviation Cen...| \\N|NULL| AAD|        SUNRISE|        Canada|  N|\n",
      "| 18|Aero Servicios Ej...| \\N|NULL| SII|         ASEISA|        Mexico|  N|\n",
      "| 19|         Aero Biniza| \\N|NULL| BZS|         BINIZA|        Mexico|  N|\n",
      "| 20|       Aero Albatros| \\N|NULL| ABM|ALBATROS ESPANA|         Spain|  N|\n",
      "+---+--------------------+---+----+----+---------------+--------------+---+\n",
      "only showing top 20 rows\n",
      "\n"
     ]
    },
    {
     "data": {
      "text/plain": [
       "df: org.apache.spark.sql.DataFrame = [-1: string, Unknown: string ... 6 more fields]\n"
      ]
     },
     "execution_count": 2,
     "metadata": {},
     "output_type": "execute_result"
    }
   ],
   "source": [
    "val df = spark.read.option(\"header\", \"true\").csv(\"s3a://warehouse-raw/flight-data/airlines.dat\")\n",
    "df.show()"
   ]
  },
  {
   "cell_type": "code",
   "execution_count": 3,
   "id": "a788cbb6-3920-4457-bed4-c36215c758c7",
   "metadata": {},
   "outputs": [
    {
     "data": {
      "text/plain": [
       "res2: Long = 6161\n"
      ]
     },
     "execution_count": 3,
     "metadata": {},
     "output_type": "execute_result"
    }
   ],
   "source": [
    "df.count()"
   ]
  },
  {
   "cell_type": "code",
   "execution_count": null,
   "id": "99d33e83-ea83-4354-86ef-5226fece8013",
   "metadata": {},
   "outputs": [],
   "source": []
  }
 ],
 "metadata": {
  "kernelspec": {
   "display_name": "spylon-kernel",
   "language": "scala",
   "name": "spylon-kernel"
  },
  "language_info": {
   "codemirror_mode": "text/x-scala",
   "file_extension": ".scala",
   "help_links": [
    {
     "text": "MetaKernel Magics",
     "url": "https://metakernel.readthedocs.io/en/latest/source/README.html"
    }
   ],
   "mimetype": "text/x-scala",
   "name": "scala",
   "pygments_lexer": "scala",
   "version": "0.4.1"
  }
 },
 "nbformat": 4,
 "nbformat_minor": 5
}
